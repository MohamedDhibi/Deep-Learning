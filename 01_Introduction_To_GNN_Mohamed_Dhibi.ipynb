{
 "cells": [
  {
   "cell_type": "markdown",
   "id": "f6042d4e-9a79-4779-adff-1a809e1532d6",
   "metadata": {
    "id": "f6042d4e-9a79-4779-adff-1a809e1532d6"
   },
   "source": [
    "<a href=\"https://www.nvidia.com/dli\"> <img src=\"images/DLI_Header.png\" alt=\"Header\" style=\"width: 400px;\"/> </a>"
   ]
  },
  {
   "cell_type": "markdown",
   "id": "4b175ac1",
   "metadata": {
    "id": "4b175ac1"
   },
   "source": [
    "# Introduction to Graph Neural Networks"
   ]
  },
  {
   "cell_type": "markdown",
   "id": "e2fe182d-930e-424b-bcff-5bb95fa216ed",
   "metadata": {
    "id": "e2fe182d-930e-424b-bcff-5bb95fa216ed"
   },
   "source": [
    "## 01 - Introduction to Graphs and Graph Neural Networks ##\n",
    "In this notebook, you will learn the fundamental concepts of graphs and graph neural networks.\n",
    "\n",
    "**Table of Contents**\n",
    "<br>\n",
    "This notebook covers the below sections:\n",
    "1. [Introduction to Graphs](#s1-1)\n",
    "    * [Working With Graph Data](#s1-1.1)\n",
    "    * [Exercise #1 - Building a Simple Graph](#s1-e1)\n",
    "    * [Manipulating Node and Edge Features](#s1-1.2)\n",
    "    * [Graph Data Representation](#s1-1.3)\n",
    "2. [Dataset Overview](#s1-2)\n",
    "    * [Exploratory Data Analysis](#s1-2.1)\n",
    "    * [Exercise #2 - Find Node With Highest Number of Connections](#s1-e2)\n",
    "    * [Data Preparation and Subgraph](#s1-2.2)\n",
    "3. [Building Graph Neural Networks for Node Classification](#s1-3)\n",
    "    * [Message Passing and Graph Convolution](#s1-3.1)\n",
    "4. [Building GNNs With PyTorch](#s1-4)\n",
    "    * [Sum-Pooling](#s1-4.1)\n",
    "    * [Baseline MLP Model](#s1-4.2)\n",
    "    * [Exercise #3 - Mean-Pooling](#s1-e3)\n",
    "    * [GCN, Graph Convolutional Network](#s1-4.3)\n",
    "5. [Building GNNs With DGL's Built-In Modules](#s1-5)\n",
    "    * [GraphConv](#s1-5.1)"
   ]
  },
  {
   "cell_type": "markdown",
   "id": "32d50743-60f7-4d97-8490-7f0137c2b8b4",
   "metadata": {
    "id": "32d50743-60f7-4d97-8490-7f0137c2b8b4"
   },
   "source": [
    "<a name='s1-1'></a>\n",
    "## Introduction to Graphs ##\n",
    "A graph is a type of data structure that contains **nodes** and **edges**. A node can be a person, place, or thing, and the edges define the relationship between nodes. Edges can be directed, where an edge has a source node and a destination node. They can also be undirected, where there is no notion of source or destination nodes. Graphs are excellent in dealing with complex problems with relationships and interactions.\n",
    "\n",
    "Data that are naturally represented by graphs include:\n",
    "* **Citation networks** can be used to study how publications relate to each other.\n",
    "* **Social networks** are tools to study patterns in collective behavior of people, institutions, and organizations. A social network graph represents groups of people by modelling individuals as nodes, and their relationships as edges.\n",
    "* **Molecules** can be described as a graph, where nodes are atoms and edges are the bonds they share.\n",
    "\n",
    "The structure of graphs can vary greatly in terms of the number of nodes, edges, and the connectivity of nodes.\n",
    "\n",
    "Some of the properties that make graphs different from other types of data include:\n",
    "1. A graph exists in non-Euclidean space, which makes it harder to interpret the data. To visualize the data, there are various dimensionality reduction tools.\n",
    "2. Graphs are unstructured and do not have a fixed form.\n",
    "3. Their large size and high dimensionality increase the complexity for human interpretation."
   ]
  },
  {
   "cell_type": "markdown",
   "id": "5511f98a-2059-4422-964c-fef8ca92399d",
   "metadata": {
    "id": "5511f98a-2059-4422-964c-fef8ca92399d",
    "tags": []
   },
   "source": [
    "<a name='s1-1.1'></a>\n",
    "### Working With Graph Data ###\n",
    "In this lab, we will use the open-source Deep Graph Library, [DGL](https://www.dgl.ai/), and [PyTorch](https://pytorch.org/) to work with graph data. Other popular graph deep learning libraries include [Spektral](https://graphneural.network/), [Graph Nets](https://www.deepmind.com/open-source/graph-nets), and [PyTorch Geometric](https://www.pyg.org/), which allow us to manipulate graph data in similar ways.\n",
    "\n",
    "DGL represents each node by a unique integer, known as a node ID, and each edge by a pair of integers corresponding to the IDs of its end nodes. DGL assigns each edge a unique integer, known as edge ID, based on the order in which it was added to the graph starting with `0`. In DGL, all edges are directed, and an edge `(u, v)` indicates that the direction goes from source node `u` to destination node `v`. When making **undirected** graphs, edges can be treated as **bidirectional** by adding **reverse edges**.\n",
    "\n",
    "We start by creating a sample graph below:\n",
    "\n",
    "<p><img src='images/sample_graph_1.png' width=240></p>\n",
    "\n",
    "A [`DGLGraph`](https://docs.dgl.ai/en/latest/api/python/dgl.DGLGraph.html) can be created with [`dgl.graph(data)`](https://docs.dgl.ai/en/0.9.x/generated/dgl.graph.html), which takes a pair of node IDs `(U, V)` that represent the source node(s) and destination node(s). Once created, we can use [`dgl.DGLGraph.nodes()`](https://docs.dgl.ai/en/0.8.x/generated/dgl.DGLGraph.nodes.html), [`dgl.DGLGraph.edges()`](https://docs.dgl.ai/en/0.8.x/generated/dgl.DGLGraph.edges.html), or [`dgl.DGLGraph.edge_ids(u, v)`](https://docs.dgl.ai/generated/dgl.DGLGraph.edge_ids.html) to reference the nodes and edges. Edges can also be identified using [`dgl.DGLGraph.find_edges(eid)`](https://docs.dgl.ai/en/0.8.x/generated/dgl.DGLGraph.find_edges.html), [`dgl.DGLGraph.in_edges(v)`](https://docs.dgl.ai/en/0.8.x/generated/dgl.DGLGraph.in_edges.html), or [`dgl.DGLGraph.out_edges(u)`](https://docs.dgl.ai/en/0.8.x/generated/dgl.DGLGraph.out_edges.html). For finding the node degree, or the number of connections, we can use [`dgl.DGLGraph.in_degrees(v)`](https://docs.dgl.ai/en/0.8.x/generated/dgl.DGLGraph.in_degrees.html) or [`dgl.DGLGraph.out_degrees(u)`](https://docs.dgl.ai/en/0.8.x/generated/dgl.DGLGraph.out_degrees.html). Optionally, we can use [`networkx`](https://networkx.org/) to visualize the small graphs.\n",
    "\n",
    "_Note: More details about the DGLGraph API, which includes [querying basic graph structure](https://docs.dgl.ai/en/0.7.x/api/python/dgl.DGLGraph.html#querying-graph-structure) properties, can be found [here](https://docs.dgl.ai/en/0.7.x/api/python/dgl.DGLGraph.html)._"
   ]
  },
  {
   "cell_type": "code",
   "execution_count": 2,
   "id": "697baeaa",
   "metadata": {},
   "outputs": [
    {
     "name": "stdout",
     "output_type": "stream",
     "text": [
      "Collecting dglNote: you may need to restart the kernel to use updated packages.\n",
      "\n",
      "  Obtaining dependency information for dgl from https://files.pythonhosted.org/packages/5a/ff/2ff1e38194aa66ca2d7393415ad11eccbf8d9ea5e74dfaaa2c145d34a240/dgl-1.1.2-cp311-cp311-win_amd64.whl.metadata\n",
      "  Downloading dgl-1.1.2-cp311-cp311-win_amd64.whl.metadata (530 bytes)\n",
      "Requirement already satisfied: numpy>=1.14.0 in c:\\users\\hamma\\appdata\\roaming\\python\\python311\\site-packages (from dgl) (1.26.0)\n",
      "Requirement already satisfied: scipy>=1.1.0 in c:\\users\\hamma\\anaconda3\\lib\\site-packages (from dgl) (1.10.1)\n",
      "Requirement already satisfied: networkx>=2.1 in c:\\users\\hamma\\anaconda3\\lib\\site-packages (from dgl) (3.1)\n",
      "Requirement already satisfied: requests>=2.19.0 in c:\\users\\hamma\\anaconda3\\lib\\site-packages (from dgl) (2.31.0)\n",
      "Requirement already satisfied: tqdm in c:\\users\\hamma\\anaconda3\\lib\\site-packages (from dgl) (4.65.0)\n",
      "Requirement already satisfied: psutil>=5.8.0 in c:\\users\\hamma\\anaconda3\\lib\\site-packages (from dgl) (5.9.0)\n",
      "Requirement already satisfied: charset-normalizer<4,>=2 in c:\\users\\hamma\\anaconda3\\lib\\site-packages (from requests>=2.19.0->dgl) (2.0.4)\n",
      "Requirement already satisfied: idna<4,>=2.5 in c:\\users\\hamma\\anaconda3\\lib\\site-packages (from requests>=2.19.0->dgl) (3.4)\n",
      "Requirement already satisfied: urllib3<3,>=1.21.1 in c:\\users\\hamma\\anaconda3\\lib\\site-packages (from requests>=2.19.0->dgl) (1.26.16)\n",
      "Requirement already satisfied: certifi>=2017.4.17 in c:\\users\\hamma\\anaconda3\\lib\\site-packages (from requests>=2.19.0->dgl) (2023.7.22)\n",
      "Requirement already satisfied: colorama in c:\\users\\hamma\\anaconda3\\lib\\site-packages (from tqdm->dgl) (0.4.6)\n",
      "Downloading dgl-1.1.2-cp311-cp311-win_amd64.whl (3.4 MB)\n",
      "   ---------------------------------------- 0.0/3.4 MB ? eta -:--:--\n",
      "   ---------------------------------------- 0.0/3.4 MB ? eta -:--:--\n",
      "   ---------------------------------------- 0.0/3.4 MB ? eta -:--:--\n",
      "   ---------------------------------------- 0.0/3.4 MB 393.8 kB/s eta 0:00:09\n",
      "    --------------------------------------- 0.1/3.4 MB 550.5 kB/s eta 0:00:07\n",
      "   - -------------------------------------- 0.1/3.4 MB 585.1 kB/s eta 0:00:06\n",
      "   - -------------------------------------- 0.1/3.4 MB 602.4 kB/s eta 0:00:06\n",
      "   - -------------------------------------- 0.2/3.4 MB 657.6 kB/s eta 0:00:05\n",
      "   -- ------------------------------------- 0.2/3.4 MB 695.5 kB/s eta 0:00:05\n",
      "   -- ------------------------------------- 0.2/3.4 MB 724.0 kB/s eta 0:00:05\n",
      "   --- ------------------------------------ 0.3/3.4 MB 741.6 kB/s eta 0:00:05\n",
      "   --- ------------------------------------ 0.3/3.4 MB 761.4 kB/s eta 0:00:05\n",
      "   ---- ----------------------------------- 0.3/3.4 MB 749.8 kB/s eta 0:00:05\n",
      "   ---- ----------------------------------- 0.4/3.4 MB 765.8 kB/s eta 0:00:04\n",
      "   ---- ----------------------------------- 0.4/3.4 MB 778.2 kB/s eta 0:00:04\n",
      "   ----- ---------------------------------- 0.4/3.4 MB 790.7 kB/s eta 0:00:04\n",
      "   ----- ---------------------------------- 0.5/3.4 MB 779.5 kB/s eta 0:00:04\n",
      "   ----- ---------------------------------- 0.5/3.4 MB 790.3 kB/s eta 0:00:04\n",
      "   ------ --------------------------------- 0.5/3.4 MB 796.1 kB/s eta 0:00:04\n",
      "   ------ --------------------------------- 0.6/3.4 MB 804.9 kB/s eta 0:00:04\n",
      "   ------- -------------------------------- 0.6/3.4 MB 795.2 kB/s eta 0:00:04\n",
      "   ------- -------------------------------- 0.6/3.4 MB 803.1 kB/s eta 0:00:04\n",
      "   ------- -------------------------------- 0.7/3.4 MB 809.4 kB/s eta 0:00:04\n",
      "   -------- ------------------------------- 0.7/3.4 MB 813.9 kB/s eta 0:00:04\n",
      "   -------- ------------------------------- 0.7/3.4 MB 819.2 kB/s eta 0:00:04\n",
      "   -------- ------------------------------- 0.8/3.4 MB 825.1 kB/s eta 0:00:04\n",
      "   --------- ------------------------------ 0.8/3.4 MB 816.6 kB/s eta 0:00:04\n",
      "   --------- ------------------------------ 0.8/3.4 MB 822.1 kB/s eta 0:00:04\n",
      "   ---------- ----------------------------- 0.9/3.4 MB 837.4 kB/s eta 0:00:04\n",
      "   ---------- ----------------------------- 0.9/3.4 MB 829.2 kB/s eta 0:00:04\n",
      "   ---------- ----------------------------- 0.9/3.4 MB 833.8 kB/s eta 0:00:03\n",
      "   ----------- ---------------------------- 0.9/3.4 MB 828.3 kB/s eta 0:00:03\n",
      "   ----------- ---------------------------- 1.0/3.4 MB 830.0 kB/s eta 0:00:03\n",
      "   ----------- ---------------------------- 1.0/3.4 MB 817.2 kB/s eta 0:00:03\n",
      "   ------------ --------------------------- 1.0/3.4 MB 827.4 kB/s eta 0:00:03\n",
      "   ------------ --------------------------- 1.1/3.4 MB 831.4 kB/s eta 0:00:03\n",
      "   ------------ --------------------------- 1.1/3.4 MB 836.9 kB/s eta 0:00:03\n",
      "   ------------- -------------------------- 1.1/3.4 MB 831.1 kB/s eta 0:00:03\n",
      "   ------------- -------------------------- 1.2/3.4 MB 839.8 kB/s eta 0:00:03\n",
      "   -------------- ------------------------- 1.2/3.4 MB 828.1 kB/s eta 0:00:03\n",
      "   -------------- ------------------------- 1.2/3.4 MB 838.7 kB/s eta 0:00:03\n",
      "   --------------- ------------------------ 1.3/3.4 MB 839.7 kB/s eta 0:00:03\n",
      "   --------------- ------------------------ 1.3/3.4 MB 840.6 kB/s eta 0:00:03\n",
      "   --------------- ------------------------ 1.3/3.4 MB 843.6 kB/s eta 0:00:03\n",
      "   ---------------- ----------------------- 1.4/3.4 MB 846.4 kB/s eta 0:00:03\n",
      "   ---------------- ----------------------- 1.4/3.4 MB 842.9 kB/s eta 0:00:03\n",
      "   ---------------- ----------------------- 1.4/3.4 MB 843.7 kB/s eta 0:00:03\n",
      "   ----------------- ---------------------- 1.5/3.4 MB 840.4 kB/s eta 0:00:03\n",
      "   ----------------- ---------------------- 1.5/3.4 MB 841.2 kB/s eta 0:00:03\n",
      "   ----------------- ---------------------- 1.5/3.4 MB 837.7 kB/s eta 0:00:03\n",
      "   ------------------ --------------------- 1.6/3.4 MB 844.5 kB/s eta 0:00:03\n",
      "   ------------------ --------------------- 1.6/3.4 MB 846.5 kB/s eta 0:00:03\n",
      "   ------------------- -------------------- 1.6/3.4 MB 841.8 kB/s eta 0:00:03\n",
      "   ------------------- -------------------- 1.7/3.4 MB 844.2 kB/s eta 0:00:03\n",
      "   -------------------- ------------------- 1.7/3.4 MB 851.6 kB/s eta 0:00:02\n",
      "   -------------------- ------------------- 1.7/3.4 MB 853.8 kB/s eta 0:00:02\n",
      "   -------------------- ------------------- 1.8/3.4 MB 849.2 kB/s eta 0:00:02\n",
      "   --------------------- ------------------ 1.8/3.4 MB 851.3 kB/s eta 0:00:02\n",
      "   --------------------- ------------------ 1.8/3.4 MB 848.1 kB/s eta 0:00:02\n",
      "   --------------------- ------------------ 1.8/3.4 MB 850.2 kB/s eta 0:00:02\n",
      "   ---------------------- ----------------- 1.9/3.4 MB 855.3 kB/s eta 0:00:02\n",
      "   ---------------------- ----------------- 1.9/3.4 MB 848.0 kB/s eta 0:00:02\n",
      "   ----------------------- ---------------- 1.9/3.4 MB 848.5 kB/s eta 0:00:02\n",
      "   ----------------------- ---------------- 2.0/3.4 MB 850.4 kB/s eta 0:00:02\n",
      "   ----------------------- ---------------- 2.0/3.4 MB 846.5 kB/s eta 0:00:02\n",
      "   ------------------------ --------------- 2.0/3.4 MB 848.3 kB/s eta 0:00:02\n",
      "   ------------------------ --------------- 2.1/3.4 MB 849.8 kB/s eta 0:00:02\n",
      "   ------------------------ --------------- 2.1/3.4 MB 851.6 kB/s eta 0:00:02\n",
      "   ------------------------- -------------- 2.1/3.4 MB 853.3 kB/s eta 0:00:02\n",
      "   ------------------------- -------------- 2.2/3.4 MB 849.6 kB/s eta 0:00:02\n",
      "   -------------------------- ------------- 2.2/3.4 MB 855.3 kB/s eta 0:00:02\n",
      "   -------------------------- ------------- 2.2/3.4 MB 851.7 kB/s eta 0:00:02\n",
      "   -------------------------- ------------- 2.3/3.4 MB 853.3 kB/s eta 0:00:02\n",
      "   --------------------------- ------------ 2.3/3.4 MB 854.6 kB/s eta 0:00:02\n",
      "   --------------------------- ------------ 2.3/3.4 MB 851.4 kB/s eta 0:00:02\n",
      "   ---------------------------- ----------- 2.4/3.4 MB 856.4 kB/s eta 0:00:02\n",
      "   ---------------------------- ----------- 2.4/3.4 MB 853.0 kB/s eta 0:00:02\n",
      "   ---------------------------- ----------- 2.4/3.4 MB 854.5 kB/s eta 0:00:02\n",
      "   ---------------------------- ----------- 2.4/3.4 MB 852.4 kB/s eta 0:00:02\n",
      "   ----------------------------- ---------- 2.5/3.4 MB 849.2 kB/s eta 0:00:02\n",
      "   ----------------------------- ---------- 2.5/3.4 MB 850.7 kB/s eta 0:00:02\n",
      "   ------------------------------ --------- 2.5/3.4 MB 852.2 kB/s eta 0:00:01\n",
      "   ------------------------------ --------- 2.6/3.4 MB 852.5 kB/s eta 0:00:01\n",
      "   ------------------------------ --------- 2.6/3.4 MB 854.7 kB/s eta 0:00:01\n",
      "   ------------------------------- -------- 2.6/3.4 MB 851.7 kB/s eta 0:00:01\n",
      "   ------------------------------- -------- 2.7/3.4 MB 855.2 kB/s eta 0:00:01\n",
      "   -------------------------------- ------- 2.7/3.4 MB 856.6 kB/s eta 0:00:01\n",
      "   -------------------------------- ------- 2.7/3.4 MB 853.6 kB/s eta 0:00:01\n",
      "   -------------------------------- ------- 2.8/3.4 MB 854.9 kB/s eta 0:00:01\n",
      "   --------------------------------- ------ 2.8/3.4 MB 859.3 kB/s eta 0:00:01\n",
      "   --------------------------------- ------ 2.8/3.4 MB 857.2 kB/s eta 0:00:01\n",
      "   --------------------------------- ------ 2.9/3.4 MB 858.5 kB/s eta 0:00:01\n",
      "   ---------------------------------- ----- 2.9/3.4 MB 858.6 kB/s eta 0:00:01\n",
      "   ---------------------------------- ----- 2.9/3.4 MB 855.8 kB/s eta 0:00:01\n",
      "   ----------------------------------- ---- 3.0/3.4 MB 857.0 kB/s eta 0:00:01\n",
      "   ----------------------------------- ---- 3.0/3.4 MB 857.2 kB/s eta 0:00:01\n",
      "   ----------------------------------- ---- 3.0/3.4 MB 859.4 kB/s eta 0:00:01\n",
      "   ------------------------------------ --- 3.1/3.4 MB 859.6 kB/s eta 0:00:01\n",
      "   ------------------------------------ --- 3.1/3.4 MB 860.7 kB/s eta 0:00:01\n",
      "   ------------------------------------ --- 3.1/3.4 MB 859.7 kB/s eta 0:00:01\n",
      "   ------------------------------------- -- 3.2/3.4 MB 859.9 kB/s eta 0:00:01\n",
      "   ------------------------------------- -- 3.2/3.4 MB 857.2 kB/s eta 0:00:01\n",
      "   -------------------------------------- - 3.2/3.4 MB 854.7 kB/s eta 0:00:01\n",
      "   -------------------------------------- - 3.2/3.4 MB 855.8 kB/s eta 0:00:01\n",
      "   -------------------------------------- - 3.3/3.4 MB 856.0 kB/s eta 0:00:01\n",
      "   ---------------------------------------  3.3/3.4 MB 857.1 kB/s eta 0:00:01\n",
      "   ---------------------------------------  3.3/3.4 MB 858.2 kB/s eta 0:00:01\n",
      "   ---------------------------------------- 3.4/3.4 MB 855.6 kB/s eta 0:00:00\n",
      "Installing collected packages: dgl\n",
      "Successfully installed dgl-1.1.2\n"
     ]
    }
   ],
   "source": [
    "pip install dgl"
   ]
  },
  {
   "cell_type": "code",
   "execution_count": 3,
   "id": "87526336-e6fa-40b1-823d-ed970b8595f3",
   "metadata": {
    "id": "87526336-e6fa-40b1-823d-ed970b8595f3"
   },
   "outputs": [
    {
     "name": "stdout",
     "output_type": "stream",
     "text": [
      "Setting the default backend to \"pytorch\". You can change it in the ~/.dgl/config.json file or export the DGLBACKEND environment variable.  Valid options are: pytorch, mxnet, tensorflow (all lowercase)\n"
     ]
    },
    {
     "name": "stderr",
     "output_type": "stream",
     "text": [
      "DGL backend not selected or invalid.  Assuming PyTorch for now.\n"
     ]
    }
   ],
   "source": [
    "# DO NOT CHANGE THIS CELL\n",
    "# import dependencies\n",
    "import dgl\n",
    "import torch"
   ]
  },
  {
   "cell_type": "code",
   "execution_count": 4,
   "id": "a2ea4a03-6e3d-493c-80c5-1c0c24b2bc9f",
   "metadata": {
    "id": "a2ea4a03-6e3d-493c-80c5-1c0c24b2bc9f"
   },
   "outputs": [
    {
     "name": "stdout",
     "output_type": "stream",
     "text": [
      "Graph(num_nodes=5, num_edges=3,\n",
      "      ndata_schemes={}\n",
      "      edata_schemes={})\n"
     ]
    }
   ],
   "source": [
    "# DO NOT CHANGE THIS CELL\n",
    "# create source nodes for edges (2, 1), (3, 2), (4, 3)\n",
    "sample_u=[2, 3, 4]\n",
    "\n",
    "# create destination nodes for edges (2, 1), (3, 2), (4, 3)\n",
    "sample_v=[1, 2, 3]\n",
    "\n",
    "# create graph\n",
    "sample_g=dgl.graph((sample_u, sample_v))\n",
    "\n",
    "# print graph\n",
    "print(sample_g)"
   ]
  },
  {
   "cell_type": "code",
   "execution_count": 5,
   "id": "06597dbc-7995-403e-830d-d078bb07beb2",
   "metadata": {
    "id": "06597dbc-7995-403e-830d-d078bb07beb2"
   },
   "outputs": [
    {
     "name": "stdout",
     "output_type": "stream",
     "text": [
      "Node IDs are: \n",
      "tensor([0, 1, 2, 3, 4])\n",
      "\n",
      "Source & destination nodes of every edge are: \n",
      "(tensor([2, 3, 4]), tensor([1, 2, 3]))\n",
      "\n",
      "Edge IDs are: \n",
      "tensor([0, 1, 2])\n"
     ]
    }
   ],
   "source": [
    "# DO NOT CHANGE THIS CELL\n",
    "# print node IDs\n",
    "print(\"Node IDs are: \\n{}\\n\".format(sample_g.nodes()))\n",
    "\n",
    "# print the source and destination nodes of every edge\n",
    "print(\"Source & destination nodes of every edge are: \\n{}\\n\".format(sample_g.edges()))\n",
    "\n",
    "# print edge IDs\n",
    "print(\"Edge IDs are: \\n{}\".format(sample_g.edge_ids(sample_u, sample_v)))"
   ]
  },
  {
   "cell_type": "code",
   "execution_count": 6,
   "id": "ce198789-f5fe-4364-8273-49cd28ca140c",
   "metadata": {
    "id": "ce198789-f5fe-4364-8273-49cd28ca140c"
   },
   "outputs": [
    {
     "name": "stdout",
     "output_type": "stream",
     "text": [
      "Node IDs are: \n",
      "tensor([0, 1, 2, 3, 4])\n",
      "\n",
      "Source & destination nodes of every edge are: \n",
      "(tensor([1, 2, 2, 3, 3, 4]), tensor([2, 1, 3, 2, 4, 3]))\n",
      "\n",
      "Edge IDs for directed graph are: \n",
      "tensor([1, 3, 5])\n",
      "\n",
      "Edge IDs for bidirectional/undirected graph are: \n",
      "tensor([1, 3, 5, 0, 2, 4])\n"
     ]
    }
   ],
   "source": [
    "# DO NOT CHANGE THIS CELL\n",
    "# make bidirected graph\n",
    "sample_g=dgl.to_bidirected(sample_g)\n",
    "\n",
    "# dgl.add_reverse_edges(graph) achieves similar result\n",
    "# sample_g=dgl.add_reverse_edges(sample_g)\n",
    "\n",
    "# print graph properties\n",
    "print(\"Node IDs are: \\n{}\\n\".format(sample_g.nodes()))\n",
    "print(\"Source & destination nodes of every edge are: \\n{}\\n\".format(sample_g.edges()))\n",
    "print(\"Edge IDs for directed graph are: \\n{}\\n\".format(sample_g.edge_ids(sample_u, sample_v)))\n",
    "\n",
    "# print all edges\n",
    "print(\"Edge IDs for bidirectional/undirected graph are: \\n{}\".format(sample_g.edge_ids(sample_u+sample_v, sample_v+sample_u)))"
   ]
  },
  {
   "cell_type": "code",
   "execution_count": 7,
   "id": "3965913c-db77-465a-9b76-b585aec97e64",
   "metadata": {
    "id": "3965913c-db77-465a-9b76-b585aec97e64"
   },
   "outputs": [
    {
     "name": "stdout",
     "output_type": "stream",
     "text": [
      "Source node(s) tensor([2]) are connected to destination node(s) tensor([1]). \n"
     ]
    }
   ],
   "source": [
    "# DO NOT CHANGE THIS CELL\n",
    "# find all edges connected to node 1\n",
    "node_id=1\n",
    "print(\"Source node(s) {0[0]} are connected to destination node(s) {0[1]}. \".format(sample_g.in_edges(node_id)))"
   ]
  },
  {
   "cell_type": "code",
   "execution_count": 8,
   "id": "7d124723-c874-46f8-94c2-4a7109a004db",
   "metadata": {
    "id": "7d124723-c874-46f8-94c2-4a7109a004db"
   },
   "outputs": [
    {
     "name": "stdout",
     "output_type": "stream",
     "text": [
      "Node degrees for all nodes: \n",
      "tensor([0, 1, 2, 2, 1])\n"
     ]
    }
   ],
   "source": [
    "# DO NOT CHANGE THIS CELL\n",
    "# get node degrees\n",
    "print(\"Node degrees for all nodes: \\n{}\".format(sample_g.in_degrees()))"
   ]
  },
  {
   "cell_type": "code",
   "execution_count": 9,
   "id": "ebb1e26d-af21-4ab8-b79c-59a0c9762fd6",
   "metadata": {
    "id": "ebb1e26d-af21-4ab8-b79c-59a0c9762fd6"
   },
   "outputs": [
    {
     "data": {
      "image/png": "[encoded data removed]",
      "text/plain": [
       "<Figure size 640x480 with 1 Axes>"
      ]
     },
     "metadata": {},
     "output_type": "display_data"
    }
   ],
   "source": [
    "# DO NOT CHANGE THIS CELL\n",
    "# visualize the graph\n",
    "import networkx as nx\n",
    "\n",
    "# draw plot using networkx\n",
    "G=dgl.to_networkx(sample_g)\n",
    "nx.draw_networkx(G)"
   ]
  },
  {
   "cell_type": "markdown",
   "id": "2701ba36-9067-456f-bf79-ad5b1332d13b",
   "metadata": {
    "id": "2701ba36-9067-456f-bf79-ad5b1332d13b"
   },
   "source": [
    "_Note: This graph consists of 5 nodes and 3 edges. The number of nodes is automatically inferred from the max node ID in the given edges. Furthermore, the edge IDs will automatically get numbered based on the order they were added and double-counted for bidirectional/undirected graphs._"
   ]
  },
  {
   "cell_type": "markdown",
   "id": "e8df054e-2575-4cbd-ac71-915e2b595833",
   "metadata": {
    "id": "e8df054e-2575-4cbd-ac71-915e2b595833"
   },
   "source": [
    "<a name='s1-e1'></a>\n",
    "### Exercise #1 - Building a Simple Graph ###\n",
    "Let's create the below graph.\n",
    "\n",
    "<p><img src='images/sample_graph_2.png' width=240></p>\n",
    "\n",
    "**Instructions**:<br>\n",
    "* Modify the `<FIXME>`s only to create the sample graph."
   ]
  },
  {
   "cell_type": "code",
   "execution_count": 11,
   "id": "b610d629-32c7-4e82-bd90-4af90f71ed5a",
   "metadata": {
    "id": "b610d629-32c7-4e82-bd90-4af90f71ed5a"
   },
   "outputs": [
    {
     "data": {
      "image/png": "[encoded data removed]",
      "text/plain": [
       "<Figure size 640x480 with 1 Axes>"
      ]
     },
     "metadata": {},
     "output_type": "display_data"
    }
   ],
   "source": [
    "# create sources nodes and destination nodes\n",
    "u=[0, 1, 2,3,4,5]\n",
    "v=[1, 2,3,4,5,3]\n",
    "g=dgl.graph((u, v))\n",
    "\n",
    "# when making undirected graphs, edges are treated as bidirectional\n",
    "g=dgl.to_bidirected(g)\n",
    "\n",
    "# draw plot using networkx\n",
    "nx.draw_networkx(dgl.to_networkx(g))"
   ]
  },
  {
   "cell_type": "raw",
   "id": "a7c83bfd-4756-4609-8b05-7406ecc2606d",
   "metadata": {
    "id": "a7c83bfd-4756-4609-8b05-7406ecc2606d",
    "jupyter": {
     "source_hidden": true
    },
    "tags": []
   },
   "source": [
    "u=[0, 1, 2, 3, 3, 4]\n",
    "v=[1, 2, 3, 4, 5, 5]\n",
    "g=dgl.graph((u, v))\n",
    "g=dgl.to_bidirected(g)\n",
    "\n",
    "nx.draw_networkx(dgl.to_networkx(g))"
   ]
  },
  {
   "cell_type": "markdown",
   "id": "134cf1cd-ad51-498f-8487-c7b22c71dfb6",
   "metadata": {
    "id": "134cf1cd-ad51-498f-8487-c7b22c71dfb6"
   },
   "source": [
    "<a name='s1-1.2'></a>\n",
    "### Manipulating Node and Edge Features ###\n",
    "Many graph data contain features on nodes and edges. We can assign and retrieve node and edge features via the [`dgl.DGLGraph.ndata`](https://docs.dgl.ai/en/latest/generated/dgl.DGLGraph.ndata.html#dgl.DGLGraph.ndata) and [`dgl.DGLGraph.edata`](https://docs.dgl.ai/en/latest/generated/dgl.DGLGraph.edata.html#dgl.DGLGraph.edata) interfaces similar to how we would add/retrieve key-value pairs in a [Python dictionary](https://docs.python.org/3/tutorial/datastructures.html#dictionaries). `ndata` and `edata` can also be used to store other node-level and edge-level data for deep learning like `labels` and `train`/`test masks`. There can also be global properties about the overall graph.\n",
    "\n",
    "_Note: DGLGraph only accepts features stored as numerical [tensors](https://pytorch.org/docs/stable/tensors.html). The vast development of deep learning has provided us many ways to encode various types of attributes into numerical features._"
   ]
  },
  {
   "cell_type": "code",
   "execution_count": 12,
   "id": "d7b2bbc7-5cc8-4fe7-9e4b-325815f6b1d5",
   "metadata": {
    "id": "d7b2bbc7-5cc8-4fe7-9e4b-325815f6b1d5"
   },
   "outputs": [
    {
     "name": "stdout",
     "output_type": "stream",
     "text": [
      "Node data: \n",
      "{}\n",
      "\n",
      "Edge data: \n",
      "{}\n"
     ]
    }
   ],
   "source": [
    "# DO NOT CHANGE THIS CELL\n",
    "# print ndata\n",
    "print(\"Node data: \\n{}\\n\".format(g.ndata))\n",
    "\n",
    "# print edata\n",
    "print(\"Edge data: \\n{}\".format(g.edata))"
   ]
  },
  {
   "cell_type": "markdown",
   "id": "ebcad1af-9e70-41db-8df7-c54f5e7beb7e",
   "metadata": {
    "id": "ebcad1af-9e70-41db-8df7-c54f5e7beb7e"
   },
   "source": [
    "Below we demonstrate assigning random values as node feature vectors. We use the [`dgl.DGLGraph.num_nodes()`](https://docs.dgl.ai/generated/dgl.DGLGraph.num_nodes.html#dgl.DGLGraph.num_nodes) function to get the number of nodes in our graph and then we assign a random multi-dimensional node feature vector called `feat` using `dgl.DGLGraph.ndata`. We can do similar assignments with [`dgl.DGLGraph.num_edges()`](https://docs.dgl.ai/en/0.8.x/generated/dgl.DGLGraph.num_edges.html?highlight=num%20edges#dgl.DGLGraph.num_edges) and `dgl.DGLGraph.edata`.\n",
    "\n",
    "_Note: Node and edge features can be named anything just like how we can have arbitrarily named keys for a Python dictionary. For example, we could have called the node feature `f_n` instead of `feat`._"
   ]
  },
  {
   "cell_type": "code",
   "execution_count": 13,
   "id": "3c3b7dcf-568d-41e8-87cd-4524838bb7d6",
   "metadata": {
    "id": "3c3b7dcf-568d-41e8-87cd-4524838bb7d6"
   },
   "outputs": [
    {
     "name": "stdout",
     "output_type": "stream",
     "text": [
      "Node features (torch.Size([6, 4])): \n",
      "{'feat': tensor([[-1.2516, -0.8651, -1.3014,  0.0625],\n",
      "        [ 0.5810,  1.4520, -1.4490, -0.2560],\n",
      "        [-0.6697,  0.2754, -0.2449, -0.4638],\n",
      "        [ 0.6594, -0.3710,  0.7442, -0.1670],\n",
      "        [ 0.8085, -0.2381,  0.9389, -0.5994],\n",
      "        [ 1.1182, -0.6846,  1.1714,  0.6270]])}\n",
      "\n",
      "Edge features (torch.Size([12, 5])): \n",
      "{'f_e': tensor([[-2.1357e-01,  1.3346e+00, -1.2651e+00,  4.2594e-01,  6.8394e-02],\n",
      "        [ 6.5100e-01,  5.6032e-01,  1.1491e+00,  5.6506e-01,  2.1122e-01],\n",
      "        [ 9.4416e-02, -1.0022e+00, -1.0731e+00, -1.2364e+00, -1.1671e+00],\n",
      "        [ 1.6080e+00,  3.1164e-01,  3.1382e-01, -3.6033e-02, -3.8248e-01],\n",
      "        [-1.7259e+00, -8.8785e-01, -1.9103e+00,  6.4537e-01,  1.4849e+00],\n",
      "        [ 2.0944e-01,  9.7583e-01, -1.7074e+00, -2.8119e-01,  1.5387e+00],\n",
      "        [-6.2017e-01,  1.4829e+00,  3.9551e-02, -5.9101e-01, -2.2275e-01],\n",
      "        [-7.8378e-01, -3.5616e-02,  7.9398e-01,  1.4276e-01,  7.0457e-01],\n",
      "        [-4.0937e-01,  2.2888e+00,  1.0011e+00, -6.5605e-01, -4.4220e-01],\n",
      "        [-3.7387e-01,  2.2386e-01, -4.4802e-01,  7.3323e-01, -3.3182e-04],\n",
      "        [-2.0746e+00, -2.2400e-02,  6.7259e-02, -1.1531e+00,  2.0622e-01],\n",
      "        [-1.0676e+00,  1.7379e+00,  2.1029e-01, -1.4326e-01, -7.2084e-01]])}\n"
     ]
    }
   ],
   "source": [
    "# DO NOT CHANGE THIS CELL\n",
    "# get number of nodes\n",
    "num_nodes=g.num_nodes()\n",
    "\n",
    "# assign a 4-dimensional random node feature vector called feat for each node\n",
    "g.ndata['feat']=torch.randn(num_nodes, 4)\n",
    "\n",
    "# print node features\n",
    "print(\"Node features ({}): \\n{}\\n\".format(g.ndata['feat'].shape, g.ndata))\n",
    "\n",
    "# assign a 5-dimensional random edge feature vector called f_e for each edge\n",
    "num_edges=g.num_edges()\n",
    "g.edata['f_e']=torch.randn(num_edges, 5)\n",
    "print(\"Edge features ({}): \\n{}\".format(g.edata['f_e'].shape, g.edata))"
   ]
  },
  {
   "cell_type": "markdown",
   "id": "05fc7297-1f14-424e-9cc6-28979c5f7993",
   "metadata": {
    "id": "05fc7297-1f14-424e-9cc6-28979c5f7993"
   },
   "source": [
    "<a name='s1-1.3'></a>\n",
    "### Graph Data Representation ###\n",
    "A graph is often represented by an **adjacency matrix**. If a graph has `n` nodes, then the adjacency matrix would have a dimension that is `n` x `n`. The matrix contains `0/1-valued` vectors to indicate whether a connection exists between a source node and a destination node. While [`dgl.DGLGraph.adj()`](https://docs.dgl.ai/en/0.8.x/generated/dgl.DGLGraph.adj.html?highlight=adj) returns a [sparse Tensor](https://pytorch.org/docs/stable/sparse.html), we can further convert it to a dense Tensor so it's more visually intuitive. For our graph, the adjacency matrix looks like the below:\n",
    "\n",
    "<p><img src='images/adj_matrix.png' width=240></p>\n",
    "\n",
    "However, while visualizing graph structure as an adjacency matrix might be convenient and intuitive, it's typically not the most efficient if it's sparse (filled with zeros). Another way we can represent edges is by using **adjacency lists**. They describe the connectivity of edges between nodes as a tuple of 1D tensors `(v, u)`, representing destination and sources nodes of all edges."
   ]
  },
  {
   "cell_type": "code",
   "execution_count": 14,
   "id": "3087a848-f7cc-4c8b-938e-b288500df4ea",
   "metadata": {
    "id": "3087a848-f7cc-4c8b-938e-b288500df4ea"
   },
   "outputs": [
    {
     "name": "stdout",
     "output_type": "stream",
     "text": [
      "Adjacency matrix (sparse Tensor): \n",
      "SparseMatrix(indices=tensor([[0, 1, 1, 2, 2, 3, 3, 3, 4, 4, 5, 5],\n",
      "                             [1, 0, 2, 1, 3, 2, 4, 5, 3, 5, 3, 4]]),\n",
      "             values=tensor([1., 1., 1., 1., 1., 1., 1., 1., 1., 1., 1., 1.]),\n",
      "             shape=(6, 6), nnz=12)\n",
      "\n",
      "Adjacency matrix (dense Tensor): \n",
      "tensor([[0., 1., 0., 0., 0., 0.],\n",
      "        [1., 0., 1., 0., 0., 0.],\n",
      "        [0., 1., 0., 1., 0., 0.],\n",
      "        [0., 0., 1., 0., 1., 1.],\n",
      "        [0., 0., 0., 1., 0., 1.],\n",
      "        [0., 0., 0., 1., 1., 0.]])\n"
     ]
    }
   ],
   "source": [
    "# DO NOT CHANGE THIS CELL\n",
    "# print adjacency matrix as a sparse Tensor\n",
    "print(\"Adjacency matrix (sparse Tensor): \\n{}\\n\".format(g.adj()))\n",
    "\n",
    "# print adjacency matrix as a dense Tensor\n",
    "print(\"Adjacency matrix (dense Tensor): \\n{}\".format(g.adj().to_dense()))"
   ]
  },
  {
   "cell_type": "code",
   "execution_count": 15,
   "id": "0208de1f-06cb-4609-a729-11aed9a292a0",
   "metadata": {
    "id": "0208de1f-06cb-4609-a729-11aed9a292a0"
   },
   "outputs": [
    {
     "name": "stdout",
     "output_type": "stream",
     "text": [
      "Node degrees computed manually: \n",
      "tensor([1, 2, 2, 3, 2, 2])\n",
      "\n",
      "Node degrees via DGL API: \n",
      "tensor([1, 2, 2, 3, 2, 2])\n"
     ]
    }
   ],
   "source": [
    "# DO NOT CHANGE THIS CELL\n",
    "# manually calculate node degrees and use .long() to convert to integers\n",
    "g.ndata['degree']=g.adj().to_dense().sum(axis=1).long()\n",
    "\n",
    "# print node degrees\n",
    "print(\"Node degrees computed manually: \\n{}\\n\".format(g.ndata['degree']))\n",
    "\n",
    "# node degrees can also be obtained via DGL API\n",
    "print(\"Node degrees via DGL API: \\n{}\".format(g.in_degrees()))\n",
    "\n",
    "# features can also be deleted, analogous to Dictionary entries\n",
    "del g.ndata['degree']"
   ]
  },
  {
   "cell_type": "code",
   "execution_count": 16,
   "id": "2407ba44-0a21-468d-b5e3-db1975d99d4e",
   "metadata": {
    "id": "2407ba44-0a21-468d-b5e3-db1975d99d4e"
   },
   "outputs": [
    {
     "name": "stdout",
     "output_type": "stream",
     "text": [
      "Edges: \n",
      "[(0, 1), (1, 0), (1, 2), (2, 1), (2, 3), (3, 2), (3, 4), (3, 5), (4, 3), (4, 5), (5, 3), (5, 4)]\n"
     ]
    }
   ],
   "source": [
    "# DO NOT CHANGE THIS CELL\n",
    "# print destination and source nodes for all edges as adjacency lists\n",
    "u=g.edges()[0].tolist()\n",
    "v=g.edges()[1].tolist()\n",
    "print(\"Edges: \\n{}\".format(list(zip(u, v))))"
   ]
  },
  {
   "cell_type": "markdown",
   "id": "0b66bb4b-ae9e-4d09-8b7c-52b1996e918c",
   "metadata": {
    "id": "0b66bb4b-ae9e-4d09-8b7c-52b1996e918c"
   },
   "source": [
    "<a name='s1-2'></a>\n",
    "## Dataset Overview ##\n",
    "For a realistic demonstration, we are using the [`ogbn-arxiv`](https://ogb.stanford.edu/docs/nodeprop/#ogbn-arxiv) dataset from [**O**pen **G**raph **B**enchmark](https://ogb.stanford.edu/). The `ogbn-arxiv` dataset is a directed graph, representing the citation network between Computer Science (CS) arXiv papers. Each node is an arXiv paper and each directed edge indicates that one paper cites another one. Each paper comes with a 128-dimensional [word2vec](https://en.wikipedia.org/wiki/Word2vec) feature vector. It's a great example of how GNNs can be used to leverage the information embedded in graphs, in order to make predictions.\n",
    "\n",
    "Each node belongs to one of the 40 subject areas of arXiv CS papers, e.g., cs.AI, cs.LG, and cs.OS, which are manually determined and labeled by the paper’s authors and arXiv moderators.\n",
    "\n",
    "While some datasets may contain more than 1 graph, the `ogbn-arxiv` dataset contains a single graph at index `0`."
   ]
  },
  {
   "cell_type": "code",
   "execution_count": 18,
   "id": "fc055448",
   "metadata": {},
   "outputs": [
    {
     "name": "stdout",
     "output_type": "stream",
     "text": [
      "Collecting ogb\n",
      "  Downloading ogb-1.3.6-py3-none-any.whl (78 kB)\n",
      "     ---------------------------------------- 0.0/78.8 kB ? eta -:--:--\n",
      "     ---------------------------------------- 0.0/78.8 kB ? eta -:--:--\n",
      "     ----- ---------------------------------- 10.2/78.8 kB ? eta -:--:--\n",
      "     -------------- ----------------------- 30.7/78.8 kB 640.0 kB/s eta 0:00:01\n",
      "     ----------------------------- -------- 61.4/78.8 kB 812.7 kB/s eta 0:00:01\n",
      "     -------------------------------------- 78.8/78.8 kB 622.8 kB/s eta 0:00:00\n",
      "Requirement already satisfied: torch>=1.6.0 in c:\\users\\hamma\\anaconda3\\lib\\site-packages (from ogb) (2.0.1)\n",
      "Requirement already satisfied: numpy>=1.16.0 in c:\\users\\hamma\\appdata\\roaming\\python\\python311\\site-packages (from ogb) (1.26.0)\n",
      "Requirement already satisfied: tqdm>=4.29.0 in c:\\users\\hamma\\anaconda3\\lib\\site-packages (from ogb) (4.65.0)\n",
      "Requirement already satisfied: scikit-learn>=0.20.0 in c:\\users\\hamma\\anaconda3\\lib\\site-packages (from ogb) (1.3.0)\n",
      "Requirement already satisfied: pandas>=0.24.0 in c:\\users\\hamma\\anaconda3\\lib\\site-packages (from ogb) (2.1.1)\n",
      "Requirement already satisfied: six>=1.12.0 in c:\\users\\hamma\\anaconda3\\lib\\site-packages (from ogb) (1.16.0)\n",
      "Requirement already satisfied: urllib3>=1.24.0 in c:\\users\\hamma\\anaconda3\\lib\\site-packages (from ogb) (1.26.16)\n",
      "Collecting outdated>=0.2.0 (from ogb)\n",
      "  Downloading outdated-0.2.2-py2.py3-none-any.whl (7.5 kB)\n",
      "Requirement already satisfied: setuptools>=44 in c:\\users\\hamma\\anaconda3\\lib\\site-packages (from outdated>=0.2.0->ogb) (68.0.0)\n",
      "Collecting littleutils (from outdated>=0.2.0->ogb)\n",
      "  Downloading littleutils-0.2.2.tar.gz (6.6 kB)\n",
      "  Preparing metadata (setup.py): started\n",
      "  Preparing metadata (setup.py): finished with status 'done'\n",
      "Requirement already satisfied: requests in c:\\users\\hamma\\anaconda3\\lib\\site-packages (from outdated>=0.2.0->ogb) (2.31.0)\n",
      "Requirement already satisfied: python-dateutil>=2.8.2 in c:\\users\\hamma\\anaconda3\\lib\\site-packages (from pandas>=0.24.0->ogb) (2.8.2)\n",
      "Requirement already satisfied: pytz>=2020.1 in c:\\users\\hamma\\anaconda3\\lib\\site-packages (from pandas>=0.24.0->ogb) (2022.7)\n",
      "Requirement already satisfied: tzdata>=2022.1 in c:\\users\\hamma\\anaconda3\\lib\\site-packages (from pandas>=0.24.0->ogb) (2023.3)\n",
      "Requirement already satisfied: scipy>=1.5.0 in c:\\users\\hamma\\anaconda3\\lib\\site-packages (from scikit-learn>=0.20.0->ogb) (1.10.1)\n",
      "Requirement already satisfied: joblib>=1.1.1 in c:\\users\\hamma\\anaconda3\\lib\\site-packages (from scikit-learn>=0.20.0->ogb) (1.2.0)\n",
      "Requirement already satisfied: threadpoolctl>=2.0.0 in c:\\users\\hamma\\anaconda3\\lib\\site-packages (from scikit-learn>=0.20.0->ogb) (2.2.0)\n",
      "Requirement already satisfied: filelock in c:\\users\\hamma\\anaconda3\\lib\\site-packages (from torch>=1.6.0->ogb) (3.9.0)\n",
      "Requirement already satisfied: typing-extensions in c:\\users\\hamma\\anaconda3\\lib\\site-packages (from torch>=1.6.0->ogb) (4.8.0)\n",
      "Requirement already satisfied: sympy in c:\\users\\hamma\\anaconda3\\lib\\site-packages (from torch>=1.6.0->ogb) (1.11.1)\n",
      "Requirement already satisfied: networkx in c:\\users\\hamma\\anaconda3\\lib\\site-packages (from torch>=1.6.0->ogb) (3.1)\n",
      "Requirement already satisfied: jinja2 in c:\\users\\hamma\\anaconda3\\lib\\site-packages (from torch>=1.6.0->ogb) (3.1.2)\n",
      "Requirement already satisfied: colorama in c:\\users\\hamma\\anaconda3\\lib\\site-packages (from tqdm>=4.29.0->ogb) (0.4.6)\n",
      "Requirement already satisfied: MarkupSafe>=2.0 in c:\\users\\hamma\\anaconda3\\lib\\site-packages (from jinja2->torch>=1.6.0->ogb) (2.1.1)\n",
      "Requirement already satisfied: charset-normalizer<4,>=2 in c:\\users\\hamma\\anaconda3\\lib\\site-packages (from requests->outdated>=0.2.0->ogb) (2.0.4)\n",
      "Requirement already satisfied: idna<4,>=2.5 in c:\\users\\hamma\\anaconda3\\lib\\site-packages (from requests->outdated>=0.2.0->ogb) (3.4)\n",
      "Requirement already satisfied: certifi>=2017.4.17 in c:\\users\\hamma\\anaconda3\\lib\\site-packages (from requests->outdated>=0.2.0->ogb) (2023.7.22)\n",
      "Requirement already satisfied: mpmath>=0.19 in c:\\users\\hamma\\anaconda3\\lib\\site-packages (from sympy->torch>=1.6.0->ogb) (1.3.0)\n",
      "Building wheels for collected packages: littleutils\n",
      "  Building wheel for littleutils (setup.py): started\n",
      "  Building wheel for littleutils (setup.py): finished with status 'done'\n",
      "  Created wheel for littleutils: filename=littleutils-0.2.2-py3-none-any.whl size=7034 sha256=cf61694e7fa464403ce3ccf24ff321472b5ebf4638871bb43c68b1b69a239508\n",
      "  Stored in directory: c:\\users\\hamma\\appdata\\local\\pip\\cache\\wheels\\17\\8d\\65\\9a39917567093c895549811c172be5d2dfb63c7e4b143e05a4\n",
      "Successfully built littleutils\n",
      "Installing collected packages: littleutils, outdated, ogb\n",
      "Successfully installed littleutils-0.2.2 ogb-1.3.6 outdated-0.2.2\n",
      "Note: you may need to restart the kernel to use updated packages.\n"
     ]
    }
   ],
   "source": [
    "pip install ogb"
   ]
  },
  {
   "cell_type": "code",
   "execution_count": 19,
   "id": "2b005379-1352-42b6-95fc-997bb5be9749",
   "metadata": {
    "id": "2b005379-1352-42b6-95fc-997bb5be9749"
   },
   "outputs": [
    {
     "name": "stdout",
     "output_type": "stream",
     "text": [
      "Downloading http://snap.stanford.edu/ogb/data/nodeproppred/arxiv.zip\n"
     ]
    },
    {
     "name": "stderr",
     "output_type": "stream",
     "text": [
      "Downloaded 0.08 GB: 100%|██████████████████████████████████████████████████████████████| 81/81 [01:41<00:00,  1.26s/it]\n"
     ]
    },
    {
     "name": "stdout",
     "output_type": "stream",
     "text": [
      "Extracting dataset\\arxiv.zip\n",
      "Loading necessary files...\n",
      "This might take a while.\n",
      "Processing graphs...\n"
     ]
    },
    {
     "name": "stderr",
     "output_type": "stream",
     "text": [
      "100%|██████████████████████████████████████████████████████████████████████████████████| 1/1 [00:00<00:00, 1026.76it/s]\n"
     ]
    },
    {
     "name": "stdout",
     "output_type": "stream",
     "text": [
      "Converting graphs into DGL objects...\n"
     ]
    },
    {
     "name": "stderr",
     "output_type": "stream",
     "text": [
      "100%|███████████████████████████████████████████████████████████████████████████████████| 1/1 [00:00<00:00, 205.00it/s]"
     ]
    },
    {
     "name": "stdout",
     "output_type": "stream",
     "text": [
      "Saving...\n"
     ]
    },
    {
     "name": "stderr",
     "output_type": "stream",
     "text": [
      "\n"
     ]
    },
    {
     "name": "stdout",
     "output_type": "stream",
     "text": [
      "Graph(num_nodes=169343, num_edges=1166243,\n",
      "      ndata_schemes={'feat': Scheme(shape=(128,), dtype=torch.float32), 'year': Scheme(shape=(1,), dtype=torch.int64)}\n",
      "      edata_schemes={})\n"
     ]
    }
   ],
   "source": [
    "# DO NOT CHANGE THIS CELL\n",
    "# import dependencies\n",
    "from ogb.nodeproppred import DglNodePropPredDataset\n",
    "\n",
    "# load data\n",
    "dataset=DglNodePropPredDataset(name='ogbn-arxiv')\n",
    "\n",
    "# assign graph and labels\n",
    "g, labels=dataset[0]\n",
    "print(g)"
   ]
  },
  {
   "cell_type": "markdown",
   "id": "0cf621dd-94f1-4352-b003-f79fe2169fed",
   "metadata": {
    "id": "0cf621dd-94f1-4352-b003-f79fe2169fed"
   },
   "source": [
    "<a name='s1-2.1'></a>\n",
    "### Exploratory Data Analysis ###\n",
    "\n",
    "We will perform some basic exploratory data analysis to understand the dataset."
   ]
  },
  {
   "cell_type": "code",
   "execution_count": 20,
   "id": "fc25cec3-3846-4294-9633-53f164327b19",
   "metadata": {
    "id": "fc25cec3-3846-4294-9633-53f164327b19"
   },
   "outputs": [
    {
     "name": "stdout",
     "output_type": "stream",
     "text": [
      "Node dict keys: \n",
      "dict_keys(['feat', 'year'])\n",
      "\n",
      "Node feature shape (num_of_nodes x num_of_features): \n",
      "torch.Size([169343, 128])\n",
      "\n",
      "Number of nodes: \n",
      "169343\n",
      "\n",
      "Number of edges: \n",
      "1166243\n"
     ]
    }
   ],
   "source": [
    "# DO NOT CHANGE THIS CELL\n",
    "# print node keys\n",
    "print(\"Node dict keys: \\n{}\\n\".format(g.ndata.keys()))\n",
    "\n",
    "# print node feature shape\n",
    "print(\"Node feature shape (num_of_nodes x num_of_features): \\n{}\\n\".format(g.ndata['feat'].shape))\n",
    "\n",
    "# print number of nodes\n",
    "print(\"Number of nodes: \\n{}\\n\".format(g.num_nodes()))\n",
    "\n",
    "# print number of edges\n",
    "print(\"Number of edges: \\n{}\".format(g.num_edges()))"
   ]
  },
  {
   "cell_type": "code",
   "execution_count": 21,
   "id": "bcf7f572-1a01-4ed4-a81f-c23fd4033b1a",
   "metadata": {
    "id": "bcf7f572-1a01-4ed4-a81f-c23fd4033b1a"
   },
   "outputs": [
    {
     "name": "stdout",
     "output_type": "stream",
     "text": [
      "Labels shape: \n",
      "torch.Size([169343, 1])\n",
      "\n",
      "Label classes: \n",
      "tensor([ 0,  1,  2,  3,  4,  5,  6,  7,  8,  9, 10, 11, 12, 13, 14, 15, 16, 17,\n",
      "        18, 19, 20, 21, 22, 23, 24, 25, 26, 27, 28, 29, 30, 31, 32, 33, 34, 35,\n",
      "        36, 37, 38, 39])\n"
     ]
    }
   ],
   "source": [
    "# DO NOT CHANGE THIS CELL\n",
    "# print labels\n",
    "print(\"Labels shape: \\n{}\\n\".format(labels.shape))\n",
    "print(\"Label classes: \\n{}\".format(labels.unique()))"
   ]
  },
  {
   "cell_type": "markdown",
   "id": "8bdb597a-7769-4c81-94f6-b33bb8d5e600",
   "metadata": {
    "id": "8bdb597a-7769-4c81-94f6-b33bb8d5e600"
   },
   "source": [
    "<a name='s1-e2'></a>\n",
    "### Exercise #2 - Finding Node With Highest Number of Connections ###\n",
    "Let's find the node with the highest node degree.\n",
    "\n",
    "**Instructions**:<br>\n",
    "* Modify the `<FIXME>` only to find the node with the highest number of connections."
   ]
  },
  {
   "cell_type": "code",
   "execution_count": 22,
   "id": "6c990b60-6b6b-4bec-870c-986685abeaa7",
   "metadata": {
    "id": "6c990b60-6b6b-4bec-870c-986685abeaa7"
   },
   "outputs": [
    {
     "name": "stdout",
     "output_type": "stream",
     "text": [
      "Node_1353 has the most connections. \n"
     ]
    }
   ],
   "source": [
    "# placeholder for max node id and max connections count\n",
    "max_node_id=0\n",
    "max_count=0\n",
    "\n",
    "# iterate through all nodes\n",
    "for each_node in g.nodes():\n",
    "    # check if number of connections is larger than current max\n",
    "    count=len(g.in_edges(each_node)[0])\n",
    "    if count>max_count:\n",
    "\n",
    "        # set max_count and max_node_id\n",
    "        max_count=count\n",
    "        max_node_id=each_node\n",
    "\n",
    "# print node with most connections\n",
    "print(\"Node_{} has the most connections. \".format(max_node_id))"
   ]
  },
  {
   "cell_type": "raw",
   "id": "f70ada07-8a6f-4626-9359-ab5c43833cbe",
   "metadata": {
    "id": "f70ada07-8a6f-4626-9359-ab5c43833cbe",
    "jupyter": {
     "source_hidden": true
    },
    "tags": []
   },
   "source": [
    "max_node_id=0\n",
    "max_count=0\n",
    "\n",
    "for each_node in g.nodes():\n",
    "    count=len(g.in_edges(each_node)[0])\n",
    "    if count>max_count:\n",
    "        max_count=count\n",
    "        max_node_id=each_node\n",
    "\n",
    "print(\"Node_{} has the most connections. \".format(max_node_id))"
   ]
  },
  {
   "cell_type": "code",
   "execution_count": null,
   "id": "91f84bd8-b4f9-4b3c-ad4c-8a3c214f4e71",
   "metadata": {
    "id": "91f84bd8-b4f9-4b3c-ad4c-8a3c214f4e71"
   },
   "outputs": [],
   "source": [
    "# DO NOT CHANGE THIS CELL\n",
    "# Node degrees can also be accessed via `.in_degrees()` or `.out_degrees()`\n",
    "print(\"Node degrees via DGL API: \\n{}\\n\".format(g.in_degrees()))\n",
    "\n",
    "# print node with most connections\n",
    "print(\"Node_{} has the most connections. \".format(torch.argmax(g.in_degrees())))"
   ]
  },
  {
   "cell_type": "markdown",
   "id": "cd9c844e-40ba-439b-a15b-96ac7b51324a",
   "metadata": {
    "id": "cd9c844e-40ba-439b-a15b-96ac7b51324a"
   },
   "source": [
    "<a name='s1-2.2'></a>\n",
    "### Data Preparation and Subgraph ###\n",
    "Before we can use the dataset for machine learning, we will perform data splitting for model validation. The original dataset contains 169,343 nodes and 1,116,243 edges. We will split the data based on the publication dates of the papers. By training the model on older papers, we can then use it to predict the labels for newly-published papers. This could provide tremendous value for the arXiv moderators. Given the range of history our data contains, we will train on papers published until 2017, validate on those published in 2018, and test on those published since 2019. The OGB dataloader conveniently provides the `train`, `valid`, and `test` masks for us directly.\n",
    "\n",
    "Furthermore, we'll first work with a subset of the data for the purpose of demonstration. Specifically, since we will be using the dense adjacency matrix to build our first GNNs, our memory capacity allows only a subset of the nodes. DGL provides a convenient [`dgl.DGLGraph.subgraph(nodes)`](https://docs.dgl.ai/en/0.2.x/generated/dgl.DGLGraph.subgraph.html) function to help us achieve this. We can obtain the node/edge mapping from the subgraph to the original graph by looking into the node feature `dgl.NID` or edge feature `dgl.EID` in the new graph. `subgraph` also copies the original features to the subgraph. Once we understand how GNNs work, we will be able to train with the sparse adjacency matrix for the entire dataset.\n",
    "\n",
    "_Note: While the `ogbn-arxiv` dataset represents a directed graph, we will ignore the edge direction and treat it as undirected._"
   ]
  },
  {
   "cell_type": "code",
   "execution_count": 23,
   "id": "e032a34d-2ac2-4d5e-aa4d-80c49831fa07",
   "metadata": {
    "id": "e032a34d-2ac2-4d5e-aa4d-80c49831fa07"
   },
   "outputs": [
    {
     "name": "stdout",
     "output_type": "stream",
     "text": [
      "Graph(num_nodes=18991, num_edges=64740,\n",
      "      ndata_schemes={'feat': Scheme(shape=(128,), dtype=torch.float32), 'year': Scheme(shape=(1,), dtype=torch.int64), '_ID': Scheme(shape=(), dtype=torch.int64)}\n",
      "      edata_schemes={})\n",
      "Parent node IDs: tensor([     0,      1,      7,  ..., 169338, 169341, 169342])\n"
     ]
    }
   ],
   "source": [
    "# DO NOT CHANGE THIS CELL\n",
    "# import dependencies\n",
    "import numpy as np\n",
    "\n",
    "# assign number of labels\n",
    "num_classes=6\n",
    "\n",
    "# get subset of node indices\n",
    "sub_nodes=np.where(np.isin(labels, range(num_classes)))[0]\n",
    "\n",
    "# get subset of labels\n",
    "sub_labels=labels[np.isin(labels, range(num_classes))]\n",
    "\n",
    "# get subgraph and make bidirectional/undirected\n",
    "sub_g=g.subgraph(sub_nodes)\n",
    "sub_g=dgl.to_bidirected(sub_g, copy_ndata=True)\n",
    "print(sub_g)\n",
    "\n",
    "# print parent node IDs\n",
    "parent_nodes=sub_g.ndata[dgl.NID]\n",
    "print(\"Parent node IDs: {}\".format(parent_nodes))"
   ]
  },
  {
   "cell_type": "code",
   "execution_count": 24,
   "id": "5ea2c9d6-a829-479f-a1d1-485d46063b10",
   "metadata": {
    "id": "5ea2c9d6-a829-479f-a1d1-485d46063b10"
   },
   "outputs": [
    {
     "name": "stdout",
     "output_type": "stream",
     "text": [
      "11234 nodes for training: \n",
      "3014 nodes for validation: \n",
      "4743 nodes for testing. \n"
     ]
    }
   ],
   "source": [
    "# DO NOT CHANGE THIS CELL\n",
    "# get data split\n",
    "split_idx=dataset.get_idx_split()\n",
    "\n",
    "# get train, valid, and test splits\n",
    "train_idx, valid_idx, test_idx=split_idx[\"train\"], split_idx[\"valid\"], split_idx[\"test\"]\n",
    "\n",
    "# DO NOT CHANGE THIS CELL\n",
    "# sample subset for the train, valid, and test set using parent_nodes\n",
    "train_mask=[True if idx in train_idx else False for idx in parent_nodes]\n",
    "valid_mask=[True if idx in valid_idx else False for idx in parent_nodes]\n",
    "test_mask=[True if idx in test_idx else False for idx in parent_nodes]\n",
    "\n",
    "print(\"{} nodes for training: \\n{} nodes for validation: \\n{} nodes for testing. \".format(sum(train_mask), sum(valid_mask), sum(test_mask)))"
   ]
  },
  {
   "cell_type": "markdown",
   "id": "9c7878d7-5b6a-4624-ac7c-4404870ae616",
   "metadata": {
    "id": "9c7878d7-5b6a-4624-ac7c-4404870ae616"
   },
   "source": [
    "<a name='s1-3'></a>\n",
    "## Building Graph Neural Networks for Node Classification ##\n",
    "Graph data is a challenge as standard deep learning methods focus primarily on structured data, such as fixed-size pixel grids (images) and sequences (text). Graph neural networks, or **GNN**s, refers to a variety of different approaches for applying deep learning on graphs that:\n",
    "* Take full advantage of the graph structure\n",
    "* Considers scalability and efficiency based on the size of the graph and its features\n",
    "* Provide an easy way to do node-level, edge-level, and graph-level prediction tasks."
   ]
  },
  {
   "cell_type": "markdown",
   "id": "700d1849-9aa3-4ef6-80f6-90956125a4f8",
   "metadata": {
    "id": "700d1849-9aa3-4ef6-80f6-90956125a4f8"
   },
   "source": [
    "<a name='s1-3.1'></a>\n",
    "### Message Passing and Graph Convolution ###\n",
    "**Message passing** is when each node in a graph sends information about itself to its neighbors and receives messages back from them to update its status and understand its environment. It enables graph neural networks to explore a graph's connectivity by correlating messages (features), sent by neighboring nodes, to update a node's features. The message passing feature is the core of DGL library and most graph computations in DGL rely on it. Message passing can be seen as two major steps:\n",
    "1. The first step consists of the \"message\" stage, where the messages are sent over or scattered by the nodes to its neighbors. It is performed for all existing or relevant edges in the graph.  \n",
    "2. The second step is the \"reduce\" stage, where the messages are **aggregated** by the receiving node and used to update its features. It is performed for all existing or relevant nodes in the graph.\n",
    "\n",
    "**Graph [convolution](https://en.wikipedia.org/wiki/Convolution)** combines information from neighborhoods and encodes updated node features to *latent representations*. It can be achieved based on a simple message passing mechanism that involves a linear combination of neighborhood features where weights used for the aggregation depend only on the structure of the graph.\n",
    "* An [embedding](https://en.wikipedia.org/wiki/Embedding) is a relatively low-dimensional space into which we can translate high-dimensional vectors such that similar items are close to each other.\n",
    "\n",
    "We will demonstrate these basic mechanisms through various node classification graph neural networks. Node classification, in simple words, refers to the task of predicting the labels of specific nodes by assessing the features and information from neighboring nodes.\n",
    "\n",
    "<p><img src='images/gnn_node_classification.png' width=720></p>"
   ]
  },
  {
   "cell_type": "markdown",
   "id": "05f156a8-3505-48da-9d34-e31e4a0ab486",
   "metadata": {
    "id": "05f156a8-3505-48da-9d34-e31e4a0ab486"
   },
   "source": [
    "<a name='s1-4'></a>\n",
    "## Building GNNs With PyTorch ##\n",
    "[PyTorch](https://pytorch.org/) is an open-source machine learning framework based on the Python programming language and the [Torch](http://torch.ch/) library. It is used for creating deep neural networks and very popular for deep learning research. We will first use PyTorch to define the layers of our graph neural networks to demonstrate the basic mechanics. Later in the lab, we will also explore other methods of building graph neural networks.\n",
    "\n",
    "Below we will define a simple two-layer graph neural network to help us explore various approaches. The first layer will apply matrix multiplication across the feature vector and the adjacency matrix, as well as a weight matrix. We will also pass the resulting matrix to a non-linear activation function for deep learning. This layer will allow us to implement various aggregation schemes such as the `sum-pooling`, `mean-pooling`, etc.\n",
    "\n",
    "In addition to our GNN model, we will define an evaluation function and a train function that will allow us to do standard deep learning model training. Since we are training classification models, we will calculate [negative log likelihood loss](https://pytorch.org/docs/stable/generated/torch.nn.NLLLoss.html) (`nll_loss`) as loss and `accuracy` as the evaluation metric.\n",
    "\n",
    "<p><img src='images/aggregation.png' width=960></p>"
   ]
  },
  {
   "cell_type": "code",
   "execution_count": 25,
   "id": "2dbbc6aa-cb40-483e-b51f-8277434683aa",
   "metadata": {
    "id": "2dbbc6aa-cb40-483e-b51f-8277434683aa"
   },
   "outputs": [],
   "source": [
    "# DO NOT CHANGE THIS CELL\n",
    "# import dependencies\n",
    "import torch.nn as nn\n",
    "import torch.nn.functional as F"
   ]
  },
  {
   "cell_type": "code",
   "execution_count": 26,
   "id": "b5550ade-747a-414f-be75-e91d8b61cb5d",
   "metadata": {
    "id": "b5550ade-747a-414f-be75-e91d8b61cb5d"
   },
   "outputs": [],
   "source": [
    "# DO NOT CHANGE THIS CELL\n",
    "# define SimpleGraphNet\n",
    "class SimpleGraphNet(nn.Module):\n",
    "    \"\"\"Simple graph neural network\n",
    "\n",
    "    Parameters\n",
    "    ----------\n",
    "    in_feats (int): input feature size\n",
    "    h_feats (int): hidden feature size\n",
    "    num_classes (int): number of classes\n",
    "    \"\"\"\n",
    "    def __init__(self, in_feats, h_feats, num_classes):\n",
    "        # for inheritance we use super() to refer to the base class\n",
    "        super(SimpleGraphNet, self).__init__()\n",
    "\n",
    "        # two linear layers where each one will have its own weights, W\n",
    "        # first layer computes the hidden layer\n",
    "        self.layer1 = nn.Linear(in_feats, h_feats)\n",
    "        # use num_classes units for the second layer to compute the classification of each node\n",
    "        self.layer2 = nn.Linear(h_feats, num_classes)\n",
    "\n",
    "    def forward(self, g, h, adj):\n",
    "        \"\"\"Forward computation\n",
    "\n",
    "        Parameters\n",
    "        ----------\n",
    "        g (DGLGraph): the input graph\n",
    "        h (Tensor): the input node features\n",
    "        adj (Tensor): the graph adjacency matrix\n",
    "        \"\"\"\n",
    "        # apply first linear layer's transform weights\n",
    "        x=self.layer1(h)\n",
    "\n",
    "        # perform matrix multiplication with the adjacency matrix and node features to\n",
    "        # aggregate/recombine across neighborhoods\n",
    "        x=torch.mm(adj, x)\n",
    "\n",
    "        # apply a relu activation function\n",
    "        x=F.relu(x)\n",
    "\n",
    "        # apply second linear layer's transform weights\n",
    "        x=self.layer2(x)\n",
    "        return x"
   ]
  },
  {
   "cell_type": "code",
   "execution_count": 27,
   "id": "450a66a2-bbb7-4e7a-9917-1cabd78640e3",
   "metadata": {
    "id": "450a66a2-bbb7-4e7a-9917-1cabd78640e3"
   },
   "outputs": [],
   "source": [
    "# DO NOT CHANGE THIS CELL\n",
    "# import dependencies\n",
    "import time\n",
    "\n",
    "# define evaluate\n",
    "def evaluate(model, g, adj, labels, mask):\n",
    "    \"\"\"Model evaluation for particular set\n",
    "\n",
    "    Parameters\n",
    "    ----------\n",
    "    model (nn.Module): the model\n",
    "    features (Tensor): the feature tensor\n",
    "    adj (Tensor): the graph adjacency matrix\n",
    "    labels (Tensor): the ground truth labels\n",
    "    mask (Tensor): the mask for a specific subset\n",
    "    \"\"\"\n",
    "    # assign features\n",
    "    features=g.ndata['feat']\n",
    "\n",
    "    # set to evaluation mode\n",
    "    model.eval()\n",
    "\n",
    "    with torch.no_grad():\n",
    "        # put features through model to obtain logits\n",
    "        logits=model(g, features, adj)\n",
    "\n",
    "        # get logits and labels for particular set\n",
    "        logits=logits[mask]\n",
    "        labels=labels[mask]\n",
    "\n",
    "        # get most likely class and count the number of corrects\n",
    "        _, indices = torch.max(logits, dim=1)\n",
    "        correct = torch.sum(indices == labels)\n",
    "\n",
    "        # return accuracy\n",
    "        return correct.item() * 1.0 / len(labels)"
   ]
  },
  {
   "cell_type": "code",
   "execution_count": 28,
   "id": "c9b81874-8b3f-4b47-86cb-7ed784187721",
   "metadata": {
    "id": "c9b81874-8b3f-4b47-86cb-7ed784187721"
   },
   "outputs": [],
   "source": [
    "# DO NOT CHANGE THIS CELL\n",
    "# define train\n",
    "def train(model, g, adj, labels):\n",
    "    \"\"\"Model training\n",
    "\n",
    "    Parameters\n",
    "    ----------\n",
    "    model (nn.Module): the model\n",
    "    features (Tensor): the feature tensor\n",
    "    adj (Tensor): the graph adjacency matrix\n",
    "    labels (Tensor): the ground truth labels\n",
    "    \"\"\"\n",
    "    # assign features\n",
    "    features=g.ndata['feat']\n",
    "\n",
    "    # use a standard optimization pipeline using the adam optimizer\n",
    "    optimizer=torch.optim.Adam(model.parameters(), lr=0.02)\n",
    "\n",
    "    # standard training pipeline with early stopping\n",
    "    best_acc=0.0\n",
    "    for epoch in range(200):\n",
    "        start=time.time()\n",
    "\n",
    "        # set to training mode\n",
    "        model.train()\n",
    "\n",
    "        # forward step\n",
    "        # calculate logits and loss\n",
    "        logits=model(g, features, adj)\n",
    "        # calculate loss using log_softmax and negative log likelihood\n",
    "        logp=F.log_softmax(logits, 1)\n",
    "        loss=F.nll_loss(logp[train_mask], labels[train_mask])\n",
    "\n",
    "        # backward step\n",
    "        # zero out gradients before accumulating the gradients on backward pass\n",
    "        optimizer.zero_grad()\n",
    "        loss.backward()\n",
    "\n",
    "        # apply the optimizer to the gradients\n",
    "        optimizer.step()\n",
    "\n",
    "        # evaluate on validation and test sets\n",
    "        val_acc=evaluate(model, g, adj, labels, valid_mask)\n",
    "        test_acc=evaluate(model, g, adj, labels, test_mask)\n",
    "\n",
    "        # compare validation accuracy with best accuracy at 10 epoch intervals, which will update if exceeded\n",
    "        if (epoch%10==0) & (val_acc>best_acc):\n",
    "            best_acc=val_acc\n",
    "            print(\"Epoch {:03d} | Loss {:.4f} | Validation Acc {:.4f} | Test Acc {:.4f} | Time(s) {:.4f}\".format(\n",
    "                epoch, loss.item(), val_acc, test_acc, time.time()-start))"
   ]
  },
  {
   "cell_type": "markdown",
   "id": "dc47446a-1cb1-4859-862f-da063cc8324b",
   "metadata": {
    "id": "dc47446a-1cb1-4859-862f-da063cc8324b"
   },
   "source": [
    "<a name='s1-4.1'></a>\n",
    "### Sum-Pooling ###\n",
    "As a starting point, we'll train a simple graph neural network for node classification using the `sum-pooling` aggregation. Recall that `sum-pooling` can cause issues related to scaling of the feature and may not give the best results.\n",
    "\n",
    "<p><img src='images/sum-pooling.PNG' width=240></p>"
   ]
  },
  {
   "cell_type": "code",
   "execution_count": 29,
   "id": "0f826f40-41a3-4cfa-a80a-852d649bae46",
   "metadata": {
    "id": "0f826f40-41a3-4cfa-a80a-852d649bae46"
   },
   "outputs": [],
   "source": [
    "# DO NOT CHANGE THIS CELL\n",
    "# create adjacency matrix\n",
    "adj=sub_g.adj().to_dense()\n",
    "\n",
    "# modify the adjacency matrix by adding the identity matrix to ensure nodes consider their own features\n",
    "adj=adj+torch.eye(sub_g.adj().shape[0])"
   ]
  },
  {
   "cell_type": "code",
   "execution_count": 30,
   "id": "addd668e-8f57-46b0-beb6-74615886192e",
   "metadata": {
    "id": "addd668e-8f57-46b0-beb6-74615886192e",
    "scrolled": true,
    "tags": []
   },
   "outputs": [
    {
     "name": "stdout",
     "output_type": "stream",
     "text": [
      "SimpleGraphNet(\n",
      "  (layer1): Linear(in_features=128, out_features=32, bias=True)\n",
      "  (layer2): Linear(in_features=32, out_features=6, bias=True)\n",
      ")\n",
      "Epoch 000 | Loss 1.8406 | Validation Acc 0.3822 | Test Acc 0.3761 | Time(s) 1.5360\n",
      "Epoch 010 | Loss 1.0203 | Validation Acc 0.6510 | Test Acc 0.6515 | Time(s) 1.2810\n",
      "Epoch 020 | Loss 0.7643 | Validation Acc 0.7253 | Test Acc 0.7268 | Time(s) 1.3886\n",
      "Epoch 030 | Loss 0.6119 | Validation Acc 0.7817 | Test Acc 0.7748 | Time(s) 1.5598\n",
      "Epoch 040 | Loss 0.5388 | Validation Acc 0.8099 | Test Acc 0.7856 | Time(s) 1.7015\n",
      "Epoch 050 | Loss 0.5023 | Validation Acc 0.8202 | Test Acc 0.7980 | Time(s) 1.7863\n",
      "Epoch 060 | Loss 0.4798 | Validation Acc 0.8278 | Test Acc 0.8075 | Time(s) 1.6571\n",
      "Epoch 070 | Loss 0.4634 | Validation Acc 0.8288 | Test Acc 0.8132 | Time(s) 1.5211\n",
      "Epoch 080 | Loss 0.4509 | Validation Acc 0.8298 | Test Acc 0.8168 | Time(s) 1.3508\n",
      "Epoch 090 | Loss 0.4411 | Validation Acc 0.8328 | Test Acc 0.8178 | Time(s) 1.3933\n",
      "Epoch 110 | Loss 0.4253 | Validation Acc 0.8334 | Test Acc 0.8210 | Time(s) 1.3769\n",
      "Epoch 120 | Loss 0.4187 | Validation Acc 0.8344 | Test Acc 0.8204 | Time(s) 1.3460\n",
      "Epoch 150 | Loss 0.4044 | Validation Acc 0.8354 | Test Acc 0.8229 | Time(s) 1.5044\n",
      "Epoch 190 | Loss 0.3879 | Validation Acc 0.8358 | Test Acc 0.8199 | Time(s) 1.4265\n"
     ]
    }
   ],
   "source": [
    "# DO NOT CHANGE THIS CELL\n",
    "# instantiate simple model\n",
    "model=SimpleGraphNet(sub_g.ndata['feat'].shape[1], 32, num_classes)\n",
    "\n",
    "# print model architecture\n",
    "print(model)\n",
    "\n",
    "# start training\n",
    "train(model, sub_g, adj, sub_labels)"
   ]
  },
  {
   "cell_type": "markdown",
   "id": "3a42ebd9-1da4-424b-b4c7-6c8fd82c9ec8",
   "metadata": {
    "id": "3a42ebd9-1da4-424b-b4c7-6c8fd82c9ec8"
   },
   "source": [
    "<a name='s1-4.2'></a>\n",
    "### Baseline MLP Model ###\n",
    "We can test our model by using an [identify matrix](https://en.wikipedia.org/wiki/Identity_matrix) instead of the adjacency matrix. This is equivalent to creating a standard MLP classificaiton model that shares weights across the vertices. We can use this as a baseline to see how much improvements graph convolution offers."
   ]
  },
  {
   "cell_type": "code",
   "execution_count": 31,
   "id": "022376c3-c462-4a45-9981-8b6780ba8bca",
   "metadata": {
    "id": "022376c3-c462-4a45-9981-8b6780ba8bca"
   },
   "outputs": [],
   "source": [
    "# DO NOT CHANGE THIS CELL\n",
    "# modify the adjacency matrix by adding the identity matrix to ensure nodes consider their own features\n",
    "adj=torch.eye(sub_g.adj().shape[0])"
   ]
  },
  {
   "cell_type": "code",
   "execution_count": 32,
   "id": "0e94173f-27a5-4874-9dab-17b3cae59507",
   "metadata": {
    "id": "0e94173f-27a5-4874-9dab-17b3cae59507",
    "scrolled": true,
    "tags": []
   },
   "outputs": [
    {
     "name": "stdout",
     "output_type": "stream",
     "text": [
      "SimpleGraphNet(\n",
      "  (layer1): Linear(in_features=128, out_features=32, bias=True)\n",
      "  (layer2): Linear(in_features=32, out_features=6, bias=True)\n",
      ")\n",
      "Epoch 000 | Loss 1.7872 | Validation Acc 0.1835 | Test Acc 0.1678 | Time(s) 1.6565\n",
      "Epoch 010 | Loss 1.1153 | Validation Acc 0.5723 | Test Acc 0.5779 | Time(s) 1.3820\n",
      "Epoch 020 | Loss 0.8261 | Validation Acc 0.6848 | Test Acc 0.6804 | Time(s) 1.4634\n",
      "Epoch 030 | Loss 0.6874 | Validation Acc 0.7216 | Test Acc 0.7004 | Time(s) 1.3581\n",
      "Epoch 040 | Loss 0.6254 | Validation Acc 0.7518 | Test Acc 0.7379 | Time(s) 1.4520\n",
      "Epoch 050 | Loss 0.5861 | Validation Acc 0.7658 | Test Acc 0.7443 | Time(s) 1.9002\n",
      "Epoch 060 | Loss 0.5651 | Validation Acc 0.7684 | Test Acc 0.7472 | Time(s) 1.3732\n",
      "Epoch 090 | Loss 0.5334 | Validation Acc 0.7701 | Test Acc 0.7514 | Time(s) 1.3700\n"
     ]
    }
   ],
   "source": [
    "# DO NOT CHANGE THIS CELL\n",
    "# instantiate simple model\n",
    "model=SimpleGraphNet(sub_g.ndata['feat'].shape[1], 32, num_classes)\n",
    "\n",
    "# print model architecture\n",
    "print(model)\n",
    "\n",
    "# start training\n",
    "train(model, sub_g, adj, sub_labels)"
   ]
  },
  {
   "cell_type": "markdown",
   "id": "3fd827d3-1be2-43c5-b6c7-e0b26e1796a1",
   "metadata": {
    "id": "3fd827d3-1be2-43c5-b6c7-e0b26e1796a1"
   },
   "source": [
    "<a name='s1-e3'></a>\n",
    "### Exercise #3 - Mean-Pooling ###\n",
    "Graph neural networks that use a `mean-pooling` aggregation normalizes the vector to prevent features from exploding since the scale of the output features can increase.\n",
    "\n",
    "<p><img src='images/mean-pooling.PNG' width=240></p>\n",
    "\n",
    "**Instructions**:<br>\n",
    "* Modify the `<FIXME>` only to calculate the number of connections per node.\n",
    "* Execute the cell below to train a GNN for node classification using the `mean-pooling` aggregation.  "
   ]
  },
  {
   "cell_type": "code",
   "execution_count": 33,
   "id": "161d031c-e758-44c0-b4f6-4654e446c85e",
   "metadata": {
    "id": "161d031c-e758-44c0-b4f6-4654e446c85e"
   },
   "outputs": [],
   "source": [
    "# create adjacency matrix\n",
    "adj=sub_g.adj().to_dense()\n",
    "\n",
    "# modify the adjacency matrix by adding the identity matrix to ensure nodes consider their own features\n",
    "adj=adj+torch.eye(sub_g.adj().shape[0])\n",
    "\n",
    "# get node degrees\n",
    "deg=adj.sum(dim=0)\n",
    "\n",
    "# divide the adjacency matrix by the degree matrix, which is equivalent to multiplying it with the\n",
    "# inverse of the degree matrix. This gives a normalize propagation rule, which should hopefully deal with\n",
    "# any exploding signal that we might have\n",
    "adj=adj/deg"
   ]
  },
  {
   "cell_type": "code",
   "execution_count": 34,
   "id": "f0d88278-3177-4a76-9456-d358598323cf",
   "metadata": {
    "id": "f0d88278-3177-4a76-9456-d358598323cf",
    "scrolled": true,
    "tags": []
   },
   "outputs": [
    {
     "name": "stdout",
     "output_type": "stream",
     "text": [
      "SimpleGraphNet(\n",
      "  (layer1): Linear(in_features=128, out_features=32, bias=True)\n",
      "  (layer2): Linear(in_features=32, out_features=6, bias=True)\n",
      ")\n",
      "Epoch 000 | Loss 1.7563 | Validation Acc 0.4519 | Test Acc 0.4853 | Time(s) 1.4909\n",
      "Epoch 010 | Loss 1.1428 | Validation Acc 0.6065 | Test Acc 0.6165 | Time(s) 1.3557\n",
      "Epoch 020 | Loss 0.7939 | Validation Acc 0.7213 | Test Acc 0.7301 | Time(s) 1.3438\n",
      "Epoch 030 | Loss 0.6100 | Validation Acc 0.7664 | Test Acc 0.7567 | Time(s) 1.3381\n",
      "Epoch 040 | Loss 0.5093 | Validation Acc 0.8106 | Test Acc 0.7965 | Time(s) 1.3561\n",
      "Epoch 050 | Loss 0.4621 | Validation Acc 0.8305 | Test Acc 0.8121 | Time(s) 1.4087\n",
      "Epoch 060 | Loss 0.4393 | Validation Acc 0.8368 | Test Acc 0.8153 | Time(s) 1.3390\n",
      "Epoch 070 | Loss 0.4247 | Validation Acc 0.8411 | Test Acc 0.8178 | Time(s) 1.3713\n",
      "Epoch 080 | Loss 0.4140 | Validation Acc 0.8414 | Test Acc 0.8183 | Time(s) 1.4419\n",
      "Epoch 090 | Loss 0.4062 | Validation Acc 0.8427 | Test Acc 0.8199 | Time(s) 1.3349\n",
      "Epoch 100 | Loss 0.4000 | Validation Acc 0.8431 | Test Acc 0.8189 | Time(s) 1.3996\n"
     ]
    }
   ],
   "source": [
    "# DO NOT CHANGE THIS CELL\n",
    "# instantiate simple model\n",
    "model=SimpleGraphNet(sub_g.ndata['feat'].shape[1], 32, num_classes)\n",
    "\n",
    "# print model architecture\n",
    "print(model)\n",
    "\n",
    "# start training\n",
    "train(model, sub_g, adj, sub_labels)"
   ]
  },
  {
   "cell_type": "raw",
   "id": "b9bc4fd2-4f5c-4998-8812-5b267e3e0aea",
   "metadata": {
    "id": "b9bc4fd2-4f5c-4998-8812-5b267e3e0aea",
    "jupyter": {
     "source_hidden": true
    },
    "tags": []
   },
   "source": [
    "adj=sub_g.adj().to_dense()\n",
    "adj=adj+torch.eye(sub_g.adj().shape[0])\n",
    "deg=adj.sum(dim=0)\n",
    "adj=adj/deg"
   ]
  },
  {
   "cell_type": "markdown",
   "id": "fece35ff-373d-4cc1-9fc7-a2324f12e793",
   "metadata": {
    "id": "fece35ff-373d-4cc1-9fc7-a2324f12e793"
   },
   "source": [
    "<a name='s1-4.3'></a>\n",
    "### GCN, Graph Convolutional Network ###\n",
    "The commonly cited node classification graph convolutional network (GCN), as proposed by Kipf and Welling ([arXiv](https://arxiv.org/abs/1609.02907)), uses symmetric normalization in the update rule. It involves multiplying the learnable function by the inverse square root of the degree matrix from both sides, which is analogous to dividing by the square root of the product of neighborhood sizes of a node and neighborhood sizes of the neighbor.\n",
    "\n",
    "<p><img src='images/gcn.PNG' width=240></p>"
   ]
  },
  {
   "cell_type": "code",
   "execution_count": 35,
   "id": "97fded42-faf7-4c86-8c7d-f8db2716a012",
   "metadata": {
    "id": "97fded42-faf7-4c86-8c7d-f8db2716a012"
   },
   "outputs": [],
   "source": [
    "# DO NOT CHANGE THIS CELL\n",
    "# create adjacency matrix\n",
    "adj=sub_g.adj().to_dense()\n",
    "\n",
    "# modify the adjacency matrix by adding the identity matrix to ensure nodes consider their own features\n",
    "adj=adj+torch.eye(sub_g.adj().shape[0])\n",
    "\n",
    "# get node degrees\n",
    "deg=adj.sum(dim=0)\n",
    "\n",
    "# normalization computes 1 over the square root of the degree matrix\n",
    "# multiply that on both sides with the adjacency matrix\n",
    "norm_deg=torch.diag(1.0/torch.sqrt(deg))\n",
    "# get the normalized adjacency matrix by multiplying the normalized degree matrix with\n",
    "# the product of the adjacency matrix and the normalized degree matrix\n",
    "norm_adj=torch.mm(norm_deg, torch.matmul(adj, norm_deg))"
   ]
  },
  {
   "cell_type": "code",
   "execution_count": 36,
   "id": "1454bbbc-59ae-4c78-b3d3-9de58f8e737e",
   "metadata": {
    "id": "1454bbbc-59ae-4c78-b3d3-9de58f8e737e",
    "scrolled": true,
    "tags": []
   },
   "outputs": [
    {
     "name": "stdout",
     "output_type": "stream",
     "text": [
      "SimpleGraphNet(\n",
      "  (layer1): Linear(in_features=128, out_features=32, bias=True)\n",
      "  (layer2): Linear(in_features=32, out_features=6, bias=True)\n",
      ")\n",
      "Epoch 000 | Loss 1.8285 | Validation Acc 0.1974 | Test Acc 0.1868 | Time(s) 1.5890\n",
      "Epoch 010 | Loss 1.1507 | Validation Acc 0.6267 | Test Acc 0.6369 | Time(s) 1.3288\n",
      "Epoch 020 | Loss 0.8069 | Validation Acc 0.6898 | Test Acc 0.7017 | Time(s) 1.3618\n",
      "Epoch 030 | Loss 0.6067 | Validation Acc 0.7804 | Test Acc 0.7723 | Time(s) 1.3517\n",
      "Epoch 040 | Loss 0.5096 | Validation Acc 0.8079 | Test Acc 0.7915 | Time(s) 1.3987\n",
      "Epoch 050 | Loss 0.4575 | Validation Acc 0.8278 | Test Acc 0.8155 | Time(s) 1.3600\n",
      "Epoch 060 | Loss 0.4220 | Validation Acc 0.8394 | Test Acc 0.8235 | Time(s) 1.5847\n",
      "Epoch 070 | Loss 0.4027 | Validation Acc 0.8431 | Test Acc 0.8277 | Time(s) 1.7611\n",
      "Epoch 080 | Loss 0.3908 | Validation Acc 0.8444 | Test Acc 0.8277 | Time(s) 1.6749\n",
      "Epoch 090 | Loss 0.3822 | Validation Acc 0.8467 | Test Acc 0.8269 | Time(s) 1.6008\n",
      "Epoch 100 | Loss 0.3756 | Validation Acc 0.8474 | Test Acc 0.8273 | Time(s) 1.7433\n",
      "Epoch 110 | Loss 0.3702 | Validation Acc 0.8477 | Test Acc 0.8288 | Time(s) 1.6266\n",
      "Epoch 130 | Loss 0.3615 | Validation Acc 0.8507 | Test Acc 0.8280 | Time(s) 1.4255\n"
     ]
    }
   ],
   "source": [
    "# DO NOT CHANGE THIS CELL\n",
    "# instantiate simple model\n",
    "model=SimpleGraphNet(sub_g.ndata['feat'].shape[1], 32, num_classes)\n",
    "\n",
    "# print model architecture\n",
    "print(model)\n",
    "\n",
    "# start training\n",
    "train(model, sub_g, norm_adj, sub_labels)"
   ]
  },
  {
   "cell_type": "markdown",
   "id": "cbee6070-1912-4de2-8f63-b80203772212",
   "metadata": {
    "id": "cbee6070-1912-4de2-8f63-b80203772212"
   },
   "source": [
    "<a name='s1-5'></a>\n",
    "## Building GNNs with DGL's Built-In Modules ##\n",
    "DGL provides implementation of many popular GNN layers. They all can be invoked easily with one line of code. The full list of supported graph convolution modules can be found [here](https://docs.dgl.ai/api/python/nn-pytorch.html)."
   ]
  },
  {
   "cell_type": "markdown",
   "id": "04e33d77-2569-43a7-93f9-dc3cc5016884",
   "metadata": {
    "id": "04e33d77-2569-43a7-93f9-dc3cc5016884"
   },
   "source": [
    "<a name='s1-5.1'></a>\n",
    "### GraphConv ###\n",
    "Below we will use the [GraphConv](https://docs.dgl.ai/en/0.9.x/generated/dgl.nn.pytorch.conv.GraphConv.html) module from DGL to implement a 3-layer GCN that utilizes mean normalization like we did above. By stacking `N` GCN layers, the feature representations are updated with information of nodes up to `N` hops away. This is often treated as a hyperparameter for model tuning.\n",
    "\n",
    "_Note: The `in_feats`, `out_feats`, `norm` arguments in `GraphConv` are all we need to consider with this simple approach. Furthermore, we use the same `h_feat` hidden size of all 3 layers. For the `norm` argument, we can use `right` to divide the aggregated messages by each node’s in-degrees, which is equivalent to averaging the received messages. Alternatively, we can use `none`, where no normalization is applied, or `both` (default), where the messages are scaled using symmetric normalization._"
   ]
  },
  {
   "cell_type": "code",
   "execution_count": 37,
   "id": "7c550a43-1654-4891-b2e0-773001061256",
   "metadata": {
    "id": "7c550a43-1654-4891-b2e0-773001061256"
   },
   "outputs": [],
   "source": [
    "# DO NOT CHANGE THIS CELL\n",
    "# import dependencies\n",
    "from dgl.nn import GraphConv\n",
    "\n",
    "# define GCN model\n",
    "class BuiltinGCN(nn.Module):\n",
    "    \"\"\"Graph convolutional network using DGL supported graph convolution modules\n",
    "\n",
    "    Parameters\n",
    "    ----------\n",
    "    in_feats (int): input feature size\n",
    "    h_feats (int): hidden feature size\n",
    "    num_classes (int): number of classes\n",
    "    \"\"\"\n",
    "    def __init__(self, in_feat, h_feat, num_classes):\n",
    "        super(BuiltinGCN, self).__init__()\n",
    "        self.layer1=GraphConv(in_feat, h_feat, norm='right')\n",
    "        self.layer2=GraphConv(h_feat, h_feat, norm='right')\n",
    "        self.layer3=GraphConv(h_feat, num_classes, norm='right')\n",
    "\n",
    "    def forward(self, g, h):\n",
    "        \"\"\"Forward computation\n",
    "\n",
    "        Parameters\n",
    "        ----------\n",
    "        g (DGLGraph): the input graph\n",
    "        features (Tensor): the input node features\n",
    "        \"\"\"\n",
    "        h=self.layer1(g, h)\n",
    "        h=F.relu(h)\n",
    "        h=self.layer2(g, h)\n",
    "        h=F.relu(h)\n",
    "        h=self.layer3(g, h)\n",
    "        return h"
   ]
  },
  {
   "cell_type": "code",
   "execution_count": 38,
   "id": "6d7e3f14-3a73-4f9f-a4c2-87642b816b2b",
   "metadata": {
    "id": "6d7e3f14-3a73-4f9f-a4c2-87642b816b2b"
   },
   "outputs": [],
   "source": [
    "# DO NOT CHANGE THIS CELL\n",
    "# import dependencies\n",
    "import time\n",
    "\n",
    "# define evaluate\n",
    "def evaluate(model, g, labels, mask):\n",
    "    \"\"\"Model evaluation for particular set\n",
    "\n",
    "    Parameters\n",
    "    ----------\n",
    "    model (nn.Module): the model\n",
    "    g (DGLGraph): the input graph\n",
    "    labels (Tensor): the ground truth labels\n",
    "    mask (Tensor): the mask for a specific subset\n",
    "    \"\"\"\n",
    "    # assign features\n",
    "    features=g.ndata['feat']\n",
    "\n",
    "    # set to evaluation mode\n",
    "    model.eval()\n",
    "\n",
    "    with torch.no_grad():\n",
    "        # put features through model to obtain logits\n",
    "        logits=model(g, features)\n",
    "\n",
    "        # get logits and labels for particular set\n",
    "        logits=logits[mask]\n",
    "        labels=labels[mask]\n",
    "\n",
    "        # get most likely class and count the number of corrects\n",
    "        _, indices = torch.max(logits, dim=1)\n",
    "        correct = torch.sum(indices == labels)\n",
    "\n",
    "        # return accuracy\n",
    "        return correct.item() * 1.0 / len(labels)"
   ]
  },
  {
   "cell_type": "code",
   "execution_count": 39,
   "id": "789c5cf1-852c-4240-acdf-bf4e6afb542b",
   "metadata": {
    "id": "789c5cf1-852c-4240-acdf-bf4e6afb542b"
   },
   "outputs": [],
   "source": [
    "# DO NOT CHANGE THIS CELL\n",
    "# define train\n",
    "def train(model, g, labels):\n",
    "    \"\"\"Model training\n",
    "\n",
    "    Parameters\n",
    "    ----------\n",
    "    model (nn.Module): the model\n",
    "    features (Tensor): the feature tensor\n",
    "    labels (Tensor): the ground truth labels\n",
    "    \"\"\"\n",
    "    # assign features\n",
    "    features=g.ndata['feat']\n",
    "\n",
    "    # use a standard optimization pipeline using the adam optimizer\n",
    "    optimizer=torch.optim.Adam(model.parameters(), lr=0.02)\n",
    "\n",
    "    # standard training pipeline with early stopping\n",
    "    best_acc=0.0\n",
    "    for epoch in range(200):\n",
    "        start=time.time()\n",
    "\n",
    "        # set to training mode\n",
    "        model.train()\n",
    "\n",
    "        # forward step\n",
    "        # calculate logits and loss\n",
    "        logits=model(g, features)\n",
    "        # calculate loss using log_softmax and negative log likelihood\n",
    "        logp=F.log_softmax(logits, 1)\n",
    "        loss=F.nll_loss(logp[train_mask], labels[train_mask])\n",
    "\n",
    "        # backward step\n",
    "        # zero out gradients before accumulating the gradients on backward pass\n",
    "        optimizer.zero_grad()\n",
    "        loss.backward()\n",
    "\n",
    "        # apply the optimizer to the gradients\n",
    "        optimizer.step()\n",
    "\n",
    "        # evaluate on validation and test sets\n",
    "        val_acc=evaluate(model, g, labels, valid_mask)\n",
    "        test_acc=evaluate(model, g, labels, test_mask)\n",
    "\n",
    "        # compare validation accuracy with best accuracy at 10 epoch intervals, which will update if exceeded\n",
    "        if (epoch%10==0) & (val_acc>best_acc):\n",
    "            best_acc=val_acc\n",
    "            print(\"Epoch {:03d} | Loss {:.4f} | Validation Acc {:.4f} | Test Acc {:.4f} | Time(s) {:.4f}\".format(\n",
    "                epoch, loss.item(), val_acc, test_acc, time.time()-start))"
   ]
  },
  {
   "cell_type": "code",
   "execution_count": 40,
   "id": "23840621-a0b8-4ec0-ab08-a0f0bc3cd184",
   "metadata": {
    "id": "23840621-a0b8-4ec0-ab08-a0f0bc3cd184",
    "scrolled": true,
    "tags": []
   },
   "outputs": [
    {
     "name": "stdout",
     "output_type": "stream",
     "text": [
      "BuiltinGCN(\n",
      "  (layer1): GraphConv(in=128, out=32, normalization=right, activation=None)\n",
      "  (layer2): GraphConv(in=32, out=32, normalization=right, activation=None)\n",
      "  (layer3): GraphConv(in=32, out=40, normalization=right, activation=None)\n",
      ")\n",
      "Epoch 000 | Loss 3.6953 | Validation Acc 0.1360 | Test Acc 0.1370 | Time(s) 0.4185\n",
      "Epoch 010 | Loss 1.2677 | Validation Acc 0.5249 | Test Acc 0.5349 | Time(s) 0.2702\n",
      "Epoch 020 | Loss 0.8177 | Validation Acc 0.7508 | Test Acc 0.7480 | Time(s) 0.3146\n",
      "Epoch 030 | Loss 0.5845 | Validation Acc 0.7913 | Test Acc 0.7854 | Time(s) 0.2936\n",
      "Epoch 040 | Loss 0.4499 | Validation Acc 0.8285 | Test Acc 0.8206 | Time(s) 0.2647\n",
      "Epoch 050 | Loss 0.4007 | Validation Acc 0.8461 | Test Acc 0.8396 | Time(s) 0.2838\n",
      "Epoch 060 | Loss 0.3692 | Validation Acc 0.8583 | Test Acc 0.8465 | Time(s) 0.2926\n",
      "Epoch 070 | Loss 0.3515 | Validation Acc 0.8607 | Test Acc 0.8507 | Time(s) 0.3401\n",
      "Epoch 080 | Loss 0.3403 | Validation Acc 0.8610 | Test Acc 0.8511 | Time(s) 0.5331\n",
      "Epoch 090 | Loss 0.3313 | Validation Acc 0.8643 | Test Acc 0.8490 | Time(s) 0.2608\n",
      "Epoch 110 | Loss 0.3180 | Validation Acc 0.8646 | Test Acc 0.8493 | Time(s) 0.2887\n"
     ]
    }
   ],
   "source": [
    "# DO NOT CHANGE THIS CELL\n",
    "# instantiate GNN model using built-in GraphConv layers\n",
    "model=BuiltinGCN(sub_g.ndata['feat'].shape[1], 32, len(labels.unique()))\n",
    "\n",
    "# add self-loop to ensure nodes consider their own features\n",
    "sub_g=dgl.add_self_loop(sub_g)\n",
    "\n",
    "# print model architecture\n",
    "print(model)\n",
    "\n",
    "# start training\n",
    "train(model, sub_g, sub_labels)"
   ]
  },
  {
   "cell_type": "markdown",
   "id": "3e4e0ef9-3825-4b61-9fb8-55416dd62627",
   "metadata": {
    "id": "3e4e0ef9-3825-4b61-9fb8-55416dd62627"
   },
   "source": [
    "**Well Done!** Good job on completing the training."
   ]
  },
  {
   "cell_type": "markdown",
   "id": "bd47e4a7-0661-4d6b-93cc-372f44babba2",
   "metadata": {
    "id": "bd47e4a7-0661-4d6b-93cc-372f44babba2"
   },
   "source": [
    "<a href=\"https://www.nvidia.com/dli\"> <img src=\"images/DLI_Header.png\" alt=\"Header\" style=\"width: 400px;\"/> </a>"
   ]
  }
 ],
 "metadata": {
  "colab": {
   "provenance": []
  },
  "kernelspec": {
   "display_name": "Python 3 (ipykernel)",
   "language": "python",
   "name": "python3"
  },
  "language_info": {
   "codemirror_mode": {
    "name": "ipython",
    "version": 3
   },
   "file_extension": ".py",
   "mimetype": "text/x-python",
   "name": "python",
   "nbconvert_exporter": "python",
   "pygments_lexer": "ipython3",
   "version": "3.11.4"
  }
 },
 "nbformat": 4,
 "nbformat_minor": 5
}
